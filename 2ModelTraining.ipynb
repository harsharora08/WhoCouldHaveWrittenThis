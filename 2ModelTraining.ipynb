{
 "cells": [
  {
   "cell_type": "code",
   "execution_count": 9,
   "id": "86a52158",
   "metadata": {},
   "outputs": [],
   "source": [
    "import numpy as np\n",
    "import pandas as pd"
   ]
  },
  {
   "cell_type": "code",
   "execution_count": 10,
   "id": "663671f9",
   "metadata": {},
   "outputs": [],
   "source": [
    "data = pd.read_csv('data/forModelTraining.csv')"
   ]
  },
  {
   "cell_type": "code",
   "execution_count": 11,
   "id": "98805458",
   "metadata": {},
   "outputs": [
    {
     "data": {
      "text/plain": [
       "Eminem             3000\n",
       "J. Cole            3000\n",
       "Nicki Minaj        3000\n",
       "Lil Pump           3000\n",
       "Taylor Swift       3000\n",
       "One Direction      3000\n",
       "Bruno Mars         3000\n",
       "Freddie Mercury    3000\n",
       "Billie Eilish      3000\n",
       "Hozier             3000\n",
       "Name: Artist, dtype: int64"
      ]
     },
     "execution_count": 11,
     "metadata": {},
     "output_type": "execute_result"
    }
   ],
   "source": [
    "data['Artist'].value_counts()"
   ]
  },
  {
   "cell_type": "code",
   "execution_count": 12,
   "id": "1124d0cb",
   "metadata": {},
   "outputs": [
    {
     "data": {
      "text/html": [
       "<div><div id=a567abc6-9533-45da-a2ec-b378140eced9 style=\"display:none; background-color:#9D6CFF; color:white; width:200px; height:30px; padding-left:5px; border-radius:4px; flex-direction:row; justify-content:space-around; align-items:center;\" onmouseover=\"this.style.backgroundColor='#BA9BF8'\" onmouseout=\"this.style.backgroundColor='#9D6CFF'\" onclick=\"window.commands?.execute('create-mitosheet-from-dataframe-output');\">See Full Dataframe in Mito</div> <script> if (window.commands?.hasCommand('create-mitosheet-from-dataframe-output')) document.getElementById('a567abc6-9533-45da-a2ec-b378140eced9').style.display = 'flex' </script> <table border=\"1\" class=\"dataframe\">\n",
       "  <thead>\n",
       "    <tr style=\"text-align: right;\">\n",
       "      <th></th>\n",
       "      <th>Artist</th>\n",
       "      <th>Title</th>\n",
       "      <th>Lyrics</th>\n",
       "    </tr>\n",
       "  </thead>\n",
       "  <tbody>\n",
       "    <tr>\n",
       "      <th>28826</th>\n",
       "      <td>Hozier</td>\n",
       "      <td>Whole Lotta Love</td>\n",
       "      <td>Say it in the street, that's a knock-out</td>\n",
       "    </tr>\n",
       "    <tr>\n",
       "      <th>27786</th>\n",
       "      <td>Hozier</td>\n",
       "      <td>Jackie and Wilson</td>\n",
       "      <td>But you'll come back each time you leave</td>\n",
       "    </tr>\n",
       "    <tr>\n",
       "      <th>5005</th>\n",
       "      <td>J. Cole</td>\n",
       "      <td>Immortal</td>\n",
       "      <td>You know the greatest films of all time were never made</td>\n",
       "    </tr>\n",
       "    <tr>\n",
       "      <th>900</th>\n",
       "      <td>Eminem</td>\n",
       "      <td>The Warning</td>\n",
       "      <td>But all I felt was shame and you held my lifeless frame</td>\n",
       "    </tr>\n",
       "    <tr>\n",
       "      <th>211</th>\n",
       "      <td>Eminem</td>\n",
       "      <td>Godzilla</td>\n",
       "      <td>But I knew you</td>\n",
       "    </tr>\n",
       "    <tr>\n",
       "      <th>24142</th>\n",
       "      <td>Billie Eilish</td>\n",
       "      <td>The Hill</td>\n",
       "      <td>When you were sixteen at the yogurt shop</td>\n",
       "    </tr>\n",
       "    <tr>\n",
       "      <th>1919</th>\n",
       "      <td>Eminem</td>\n",
       "      <td>Lucky You</td>\n",
       "      <td>Drunk under a streetlight, I</td>\n",
       "    </tr>\n",
       "    <tr>\n",
       "      <th>18330</th>\n",
       "      <td>Bruno Mars</td>\n",
       "      <td>If I Knew</td>\n",
       "      <td>Baby doll, when it comes to a lover</td>\n",
       "    </tr>\n",
       "    <tr>\n",
       "      <th>21277</th>\n",
       "      <td>Freddie Mercury</td>\n",
       "      <td>Stop All The Fighting (Non-Album B-Side)</td>\n",
       "      <td>Free of women with madness, their men and bad habits</td>\n",
       "    </tr>\n",
       "    <tr>\n",
       "      <th>2671</th>\n",
       "      <td>Eminem</td>\n",
       "      <td>Normal</td>\n",
       "      <td>'Cause there we are again in the middle of the night</td>\n",
       "    </tr>\n",
       "  </tbody>\n",
       "</table></div>"
      ],
      "text/plain": [
       "                Artist                                     Title  \\\n",
       "28826           Hozier                          Whole Lotta Love   \n",
       "27786           Hozier                         Jackie and Wilson   \n",
       "5005           J. Cole                                  Immortal   \n",
       "900             Eminem                               The Warning   \n",
       "211             Eminem                                  Godzilla   \n",
       "24142    Billie Eilish                                  The Hill   \n",
       "1919            Eminem                                 Lucky You   \n",
       "18330       Bruno Mars                                 If I Knew   \n",
       "21277  Freddie Mercury  Stop All The Fighting (Non-Album B-Side)   \n",
       "2671            Eminem                                    Normal   \n",
       "\n",
       "                                                  Lyrics  \n",
       "28826           Say it in the street, that's a knock-out  \n",
       "27786           But you'll come back each time you leave  \n",
       "5005   You know the greatest films of all time were n...  \n",
       "900    But all I felt was shame and you held my lifel...  \n",
       "211                                       But I knew you  \n",
       "24142           When you were sixteen at the yogurt shop  \n",
       "1919                        Drunk under a streetlight, I  \n",
       "18330                Baby doll, when it comes to a lover  \n",
       "21277  Free of women with madness, their men and bad ...  \n",
       "2671   'Cause there we are again in the middle of the...  "
      ]
     },
     "execution_count": 12,
     "metadata": {},
     "output_type": "execute_result"
    }
   ],
   "source": [
    "data.sample(10)"
   ]
  },
  {
   "cell_type": "code",
   "execution_count": 13,
   "id": "99c7ae11",
   "metadata": {},
   "outputs": [],
   "source": [
    "data.reset_index(inplace=True, drop=True)"
   ]
  },
  {
   "cell_type": "code",
   "execution_count": 14,
   "id": "3bea2dc7",
   "metadata": {},
   "outputs": [],
   "source": [
    "X = data['Lyrics'].astype(str)"
   ]
  },
  {
   "cell_type": "code",
   "execution_count": 15,
   "id": "2de097e1",
   "metadata": {},
   "outputs": [],
   "source": [
    "arts = dict(enumerate(data['Artist'].unique()))"
   ]
  },
  {
   "cell_type": "code",
   "execution_count": 16,
   "id": "e2d26f66",
   "metadata": {},
   "outputs": [
    {
     "data": {
      "text/plain": [
       "{0: 'Eminem',\n",
       " 1: 'J. Cole',\n",
       " 2: 'Nicki Minaj',\n",
       " 3: 'Lil Pump',\n",
       " 4: 'Taylor Swift',\n",
       " 5: 'One Direction',\n",
       " 6: 'Bruno Mars',\n",
       " 7: 'Freddie Mercury',\n",
       " 8: 'Billie Eilish',\n",
       " 9: 'Hozier'}"
      ]
     },
     "execution_count": 16,
     "metadata": {},
     "output_type": "execute_result"
    }
   ],
   "source": [
    "arts"
   ]
  },
  {
   "cell_type": "code",
   "execution_count": 54,
   "id": "42071fc1",
   "metadata": {},
   "outputs": [],
   "source": [
    "y = data['Artist'].replace(arts.values(), arts.keys())"
   ]
  },
  {
   "cell_type": "code",
   "execution_count": 55,
   "id": "d72f928f",
   "metadata": {},
   "outputs": [],
   "source": [
    "from sklearn.model_selection import train_test_split"
   ]
  },
  {
   "cell_type": "code",
   "execution_count": 56,
   "id": "888bf958",
   "metadata": {},
   "outputs": [],
   "source": [
    "X_train, X_test, y_train, y_test = train_test_split(X, y, test_size=0.3)"
   ]
  },
  {
   "cell_type": "code",
   "execution_count": 57,
   "id": "a6f45875",
   "metadata": {},
   "outputs": [],
   "source": [
    "from tensorflow import keras as kr"
   ]
  },
  {
   "cell_type": "code",
   "execution_count": 58,
   "id": "6079c31b",
   "metadata": {},
   "outputs": [],
   "source": [
    "tok = kr.preprocessing.text.Tokenizer()"
   ]
  },
  {
   "cell_type": "code",
   "execution_count": 59,
   "id": "da3193e5",
   "metadata": {},
   "outputs": [],
   "source": [
    "tok.fit_on_texts(X_train)"
   ]
  },
  {
   "cell_type": "code",
   "execution_count": 60,
   "id": "b8ba9fc8",
   "metadata": {},
   "outputs": [],
   "source": [
    "vocsize = len(tok.word_index)"
   ]
  },
  {
   "cell_type": "code",
   "execution_count": 61,
   "id": "9920bf83",
   "metadata": {},
   "outputs": [
    {
     "data": {
      "text/plain": [
       "18135    216\n",
       "14192    210\n",
       "23872    161\n",
       "41324     92\n",
       "40726     88\n",
       "41494     87\n",
       "41379     83\n",
       "23873     76\n",
       "41416     75\n",
       "14067     74\n",
       "Name: Lyrics, dtype: int64"
      ]
     },
     "execution_count": 61,
     "metadata": {},
     "output_type": "execute_result"
    }
   ],
   "source": [
    "X.apply(lambda x: len(x.split())).nlargest(10)"
   ]
  },
  {
   "cell_type": "code",
   "execution_count": 62,
   "id": "6e157d75",
   "metadata": {},
   "outputs": [],
   "source": [
    "seqlen = X.apply(lambda x: len(x.split())).max()"
   ]
  },
  {
   "cell_type": "code",
   "execution_count": 63,
   "id": "9940e826",
   "metadata": {},
   "outputs": [
    {
     "data": {
      "text/plain": [
       "216"
      ]
     },
     "execution_count": 63,
     "metadata": {},
     "output_type": "execute_result"
    }
   ],
   "source": [
    "seqlen"
   ]
  },
  {
   "cell_type": "code",
   "execution_count": 64,
   "id": "7e24a915",
   "metadata": {},
   "outputs": [],
   "source": [
    "vec = kr.layers.TextVectorization(max_tokens=vocsize+1, output_sequence_length=216)"
   ]
  },
  {
   "cell_type": "code",
   "execution_count": 65,
   "id": "5eb0ed74",
   "metadata": {},
   "outputs": [],
   "source": [
    "vec.adapt(X_train)"
   ]
  },
  {
   "cell_type": "code",
   "execution_count": 66,
   "id": "8d50c226",
   "metadata": {},
   "outputs": [],
   "source": [
    "X_train = vec(X_train)\n",
    "X_test = vec(X_test)"
   ]
  },
  {
   "cell_type": "code",
   "execution_count": 67,
   "id": "37545477",
   "metadata": {},
   "outputs": [],
   "source": [
    "model = kr.models.Sequential()\n",
    "\n",
    "model.add(kr.layers.Embedding(vocsize+1, seqlen, input_length=seqlen))\n",
    "model.add(kr.layers.GlobalAveragePooling1D())\n",
    "model.add(kr.layers.Dropout(0.5))\n",
    "model.add(kr.layers.Dense(seqlen*2, activation=kr.activations.relu))\n",
    "model.add(kr.layers.Dropout(0.5))\n",
    "model.add(kr.layers.Dense(seqlen*3, activation=kr.activations.relu))\n",
    "model.add(kr.layers.Dropout(0.5))\n",
    "model.add(kr.layers.Dense(len(y.unique()), activation=kr.activations.softmax))\n",
    "\n",
    "model.compile(optimizer=kr.optimizers.Adam(learning_rate=3e-4), loss=kr.losses.sparse_categorical_crossentropy,\n",
    "              metrics=kr.metrics.sparse_categorical_accuracy)"
   ]
  },
  {
   "cell_type": "code",
   "execution_count": 68,
   "id": "7f9fe9ac",
   "metadata": {},
   "outputs": [],
   "source": [
    "early = kr.callbacks.EarlyStopping(monitor='val_sparse_categorical_accuracy', mode='max', patience=20, restore_best_weights=True)"
   ]
  },
  {
   "cell_type": "code",
   "execution_count": 69,
   "id": "f0bf6cf0",
   "metadata": {},
   "outputs": [
    {
     "name": "stdout",
     "output_type": "stream",
     "text": [
      "Model: \"sequential_1\"\n",
      "_________________________________________________________________\n",
      " Layer (type)                Output Shape              Param #   \n",
      "=================================================================\n",
      " embedding_1 (Embedding)     (None, 216, 216)          3095280   \n",
      "                                                                 \n",
      " global_average_pooling1d_1   (None, 216)              0         \n",
      " (GlobalAveragePooling1D)                                        \n",
      "                                                                 \n",
      " dropout_3 (Dropout)         (None, 216)               0         \n",
      "                                                                 \n",
      " dense_3 (Dense)             (None, 432)               93744     \n",
      "                                                                 \n",
      " dropout_4 (Dropout)         (None, 432)               0         \n",
      "                                                                 \n",
      " dense_4 (Dense)             (None, 648)               280584    \n",
      "                                                                 \n",
      " dropout_5 (Dropout)         (None, 648)               0         \n",
      "                                                                 \n",
      " dense_5 (Dense)             (None, 16)                10384     \n",
      "                                                                 \n",
      "=================================================================\n",
      "Total params: 3,479,992\n",
      "Trainable params: 3,479,992\n",
      "Non-trainable params: 0\n",
      "_________________________________________________________________\n"
     ]
    }
   ],
   "source": [
    "model.summary()"
   ]
  },
  {
   "cell_type": "code",
   "execution_count": 30,
   "id": "6efff79a",
   "metadata": {
    "scrolled": true
   },
   "outputs": [
    {
     "name": "stdout",
     "output_type": "stream",
     "text": [
      "Epoch 1/200\n"
     ]
    },
    {
     "ename": "ValueError",
     "evalue": "in user code:\n\n    File \"C:\\Users\\harsh\\miniconda3\\lib\\site-packages\\keras\\engine\\training.py\", line 1160, in train_function  *\n        return step_function(self, iterator)\n    File \"C:\\Users\\harsh\\miniconda3\\lib\\site-packages\\keras\\engine\\training.py\", line 1146, in step_function  **\n        outputs = model.distribute_strategy.run(run_step, args=(data,))\n    File \"C:\\Users\\harsh\\miniconda3\\lib\\site-packages\\keras\\engine\\training.py\", line 1135, in run_step  **\n        outputs = model.train_step(data)\n    File \"C:\\Users\\harsh\\miniconda3\\lib\\site-packages\\keras\\engine\\training.py\", line 993, in train_step\n        y_pred = self(x, training=True)\n    File \"C:\\Users\\harsh\\miniconda3\\lib\\site-packages\\keras\\utils\\traceback_utils.py\", line 70, in error_handler\n        raise e.with_traceback(filtered_tb) from None\n    File \"C:\\Users\\harsh\\miniconda3\\lib\\site-packages\\keras\\engine\\input_spec.py\", line 295, in assert_input_compatibility\n        raise ValueError(\n\n    ValueError: Input 0 of layer \"sequential\" is incompatible with the layer: expected shape=(None, 216), found shape=(None, 17)\n",
     "output_type": "error",
     "traceback": [
      "\u001b[1;31m---------------------------------------------------------------------------\u001b[0m",
      "\u001b[1;31mValueError\u001b[0m                                Traceback (most recent call last)",
      "\u001b[1;32m~\\AppData\\Local\\Temp/ipykernel_15788/3249287255.py\u001b[0m in \u001b[0;36m<module>\u001b[1;34m\u001b[0m\n\u001b[1;32m----> 1\u001b[1;33m \u001b[0mhistory\u001b[0m \u001b[1;33m=\u001b[0m \u001b[0mmodel\u001b[0m\u001b[1;33m.\u001b[0m\u001b[0mfit\u001b[0m\u001b[1;33m(\u001b[0m\u001b[0mX_train\u001b[0m\u001b[1;33m,\u001b[0m \u001b[0my_train\u001b[0m\u001b[1;33m,\u001b[0m \u001b[0mvalidation_data\u001b[0m\u001b[1;33m=\u001b[0m\u001b[1;33m(\u001b[0m\u001b[0mX_test\u001b[0m\u001b[1;33m,\u001b[0m \u001b[0my_test\u001b[0m\u001b[1;33m)\u001b[0m\u001b[1;33m,\u001b[0m \u001b[0mepochs\u001b[0m\u001b[1;33m=\u001b[0m\u001b[1;36m200\u001b[0m\u001b[1;33m,\u001b[0m \u001b[0mcallbacks\u001b[0m\u001b[1;33m=\u001b[0m\u001b[1;33m[\u001b[0m\u001b[0mearly\u001b[0m\u001b[1;33m]\u001b[0m\u001b[1;33m)\u001b[0m\u001b[1;33m\u001b[0m\u001b[1;33m\u001b[0m\u001b[0m\n\u001b[0m",
      "\u001b[1;32m~\\miniconda3\\lib\\site-packages\\keras\\utils\\traceback_utils.py\u001b[0m in \u001b[0;36merror_handler\u001b[1;34m(*args, **kwargs)\u001b[0m\n\u001b[0;32m     68\u001b[0m             \u001b[1;31m# To get the full stack trace, call:\u001b[0m\u001b[1;33m\u001b[0m\u001b[1;33m\u001b[0m\u001b[0m\n\u001b[0;32m     69\u001b[0m             \u001b[1;31m# `tf.debugging.disable_traceback_filtering()`\u001b[0m\u001b[1;33m\u001b[0m\u001b[1;33m\u001b[0m\u001b[0m\n\u001b[1;32m---> 70\u001b[1;33m             \u001b[1;32mraise\u001b[0m \u001b[0me\u001b[0m\u001b[1;33m.\u001b[0m\u001b[0mwith_traceback\u001b[0m\u001b[1;33m(\u001b[0m\u001b[0mfiltered_tb\u001b[0m\u001b[1;33m)\u001b[0m \u001b[1;32mfrom\u001b[0m \u001b[1;32mNone\u001b[0m\u001b[1;33m\u001b[0m\u001b[1;33m\u001b[0m\u001b[0m\n\u001b[0m\u001b[0;32m     71\u001b[0m         \u001b[1;32mfinally\u001b[0m\u001b[1;33m:\u001b[0m\u001b[1;33m\u001b[0m\u001b[1;33m\u001b[0m\u001b[0m\n\u001b[0;32m     72\u001b[0m             \u001b[1;32mdel\u001b[0m \u001b[0mfiltered_tb\u001b[0m\u001b[1;33m\u001b[0m\u001b[1;33m\u001b[0m\u001b[0m\n",
      "\u001b[1;32m~\\miniconda3\\lib\\site-packages\\keras\\engine\\training.py\u001b[0m in \u001b[0;36mtf__train_function\u001b[1;34m(iterator)\u001b[0m\n\u001b[0;32m     13\u001b[0m                 \u001b[1;32mtry\u001b[0m\u001b[1;33m:\u001b[0m\u001b[1;33m\u001b[0m\u001b[1;33m\u001b[0m\u001b[0m\n\u001b[0;32m     14\u001b[0m                     \u001b[0mdo_return\u001b[0m \u001b[1;33m=\u001b[0m \u001b[1;32mTrue\u001b[0m\u001b[1;33m\u001b[0m\u001b[1;33m\u001b[0m\u001b[0m\n\u001b[1;32m---> 15\u001b[1;33m                     \u001b[0mretval_\u001b[0m \u001b[1;33m=\u001b[0m \u001b[0mag__\u001b[0m\u001b[1;33m.\u001b[0m\u001b[0mconverted_call\u001b[0m\u001b[1;33m(\u001b[0m\u001b[0mag__\u001b[0m\u001b[1;33m.\u001b[0m\u001b[0mld\u001b[0m\u001b[1;33m(\u001b[0m\u001b[0mstep_function\u001b[0m\u001b[1;33m)\u001b[0m\u001b[1;33m,\u001b[0m \u001b[1;33m(\u001b[0m\u001b[0mag__\u001b[0m\u001b[1;33m.\u001b[0m\u001b[0mld\u001b[0m\u001b[1;33m(\u001b[0m\u001b[0mself\u001b[0m\u001b[1;33m)\u001b[0m\u001b[1;33m,\u001b[0m \u001b[0mag__\u001b[0m\u001b[1;33m.\u001b[0m\u001b[0mld\u001b[0m\u001b[1;33m(\u001b[0m\u001b[0miterator\u001b[0m\u001b[1;33m)\u001b[0m\u001b[1;33m)\u001b[0m\u001b[1;33m,\u001b[0m \u001b[1;32mNone\u001b[0m\u001b[1;33m,\u001b[0m \u001b[0mfscope\u001b[0m\u001b[1;33m)\u001b[0m\u001b[1;33m\u001b[0m\u001b[1;33m\u001b[0m\u001b[0m\n\u001b[0m\u001b[0;32m     16\u001b[0m                 \u001b[1;32mexcept\u001b[0m\u001b[1;33m:\u001b[0m\u001b[1;33m\u001b[0m\u001b[1;33m\u001b[0m\u001b[0m\n\u001b[0;32m     17\u001b[0m                     \u001b[0mdo_return\u001b[0m \u001b[1;33m=\u001b[0m \u001b[1;32mFalse\u001b[0m\u001b[1;33m\u001b[0m\u001b[1;33m\u001b[0m\u001b[0m\n",
      "\u001b[1;31mValueError\u001b[0m: in user code:\n\n    File \"C:\\Users\\harsh\\miniconda3\\lib\\site-packages\\keras\\engine\\training.py\", line 1160, in train_function  *\n        return step_function(self, iterator)\n    File \"C:\\Users\\harsh\\miniconda3\\lib\\site-packages\\keras\\engine\\training.py\", line 1146, in step_function  **\n        outputs = model.distribute_strategy.run(run_step, args=(data,))\n    File \"C:\\Users\\harsh\\miniconda3\\lib\\site-packages\\keras\\engine\\training.py\", line 1135, in run_step  **\n        outputs = model.train_step(data)\n    File \"C:\\Users\\harsh\\miniconda3\\lib\\site-packages\\keras\\engine\\training.py\", line 993, in train_step\n        y_pred = self(x, training=True)\n    File \"C:\\Users\\harsh\\miniconda3\\lib\\site-packages\\keras\\utils\\traceback_utils.py\", line 70, in error_handler\n        raise e.with_traceback(filtered_tb) from None\n    File \"C:\\Users\\harsh\\miniconda3\\lib\\site-packages\\keras\\engine\\input_spec.py\", line 295, in assert_input_compatibility\n        raise ValueError(\n\n    ValueError: Input 0 of layer \"sequential\" is incompatible with the layer: expected shape=(None, 216), found shape=(None, 17)\n"
     ]
    }
   ],
   "source": [
    "history = model.fit(X_train, y_train, validation_data=(X_test, y_test), epochs=200, callbacks=[early])"
   ]
  },
  {
   "cell_type": "code",
   "execution_count": null,
   "id": "b43beb59",
   "metadata": {},
   "outputs": [],
   "source": [
    "y_hat = model.predict(X_test)"
   ]
  },
  {
   "cell_type": "code",
   "execution_count": null,
   "id": "49fa064b",
   "metadata": {},
   "outputs": [],
   "source": [
    "print('Accuracy: {}%'.format(round((y_hat.argmax(axis=1) == y_test).mean()*100, 2)))"
   ]
  },
  {
   "cell_type": "code",
   "execution_count": 274,
   "id": "5e4eb226",
   "metadata": {},
   "outputs": [],
   "source": [
    "hist = pd.DataFrame(history.history)"
   ]
  },
  {
   "cell_type": "code",
   "execution_count": 202,
   "id": "f2ec3c16",
   "metadata": {},
   "outputs": [],
   "source": [
    "import plotly.express as px"
   ]
  },
  {
   "cell_type": "code",
   "execution_count": 287,
   "id": "7e56a8b5",
   "metadata": {},
   "outputs": [
    {
     "name": "stdout",
     "output_type": "stream",
     "text": [
      "1/1 [==============================] - 0s 23ms/step\n",
      "Billie Eilish \n",
      " 86.24\n"
     ]
    }
   ],
   "source": [
    "sr = 'takea'\n",
    "hat = model.predict(np.reshape(vec(sr), (-1, 17)))\n",
    "print(arts[hat.argmax()], '\\n', round(hat.max()*100, 2))"
   ]
  },
  {
   "cell_type": "code",
   "execution_count": 335,
   "id": "1fe60ea6",
   "metadata": {},
   "outputs": [
    {
     "data": {
      "application/vnd.plotly.v1+json": {
       "config": {
        "plotlyServerURL": "https://plot.ly"
       },
       "data": [
        {
         "hovertemplate": "<b>%{hovertext}</b><br><br>variable=loss<br>Epoch=%{x}<br>Metrics=%{y}<extra></extra>",
         "hovertext": [
          "loss",
          "loss",
          "loss",
          "loss",
          "loss",
          "loss",
          "loss",
          "loss",
          "loss",
          "loss",
          "loss",
          "loss",
          "loss",
          "loss",
          "loss",
          "loss",
          "loss",
          "loss",
          "loss",
          "loss",
          "loss",
          "loss",
          "loss",
          "loss",
          "loss",
          "loss",
          "loss",
          "loss",
          "loss",
          "loss",
          "loss",
          "loss",
          "loss",
          "loss",
          "loss",
          "loss",
          "loss",
          "loss",
          "loss",
          "loss",
          "loss",
          "loss",
          "loss",
          "loss",
          "loss",
          "loss",
          "loss",
          "loss",
          "loss",
          "loss",
          "loss",
          "loss",
          "loss",
          "loss",
          "loss",
          "loss",
          "loss",
          "loss"
         ],
         "legendgroup": "loss",
         "line": {
          "color": "#636efa",
          "dash": "solid"
         },
         "marker": {
          "symbol": "circle"
         },
         "mode": "lines",
         "name": "loss",
         "orientation": "v",
         "showlegend": true,
         "type": "scatter",
         "x": [
          0,
          1,
          2,
          3,
          4,
          5,
          6,
          7,
          8,
          9,
          10,
          11,
          12,
          13,
          14,
          15,
          16,
          17,
          18,
          19,
          20,
          21,
          22,
          23,
          24,
          25,
          26,
          27,
          28,
          29,
          30,
          31,
          32,
          33,
          34,
          35,
          36,
          37,
          38,
          39,
          40,
          41,
          42,
          43,
          44,
          45,
          46,
          47,
          48,
          49,
          50,
          51,
          52,
          53,
          54,
          55,
          56,
          57
         ],
         "xaxis": "x",
         "y": [
          2.3010849952697754,
          2.2597084045410156,
          1.9315974712371826,
          1.5255755186080933,
          1.2824076414108276,
          1.1395765542984009,
          1.0337629318237305,
          0.965748131275177,
          0.9037367701530457,
          0.8673213124275208,
          0.8253610730171204,
          0.7864140868186951,
          0.7721930742263794,
          0.7250475287437439,
          0.7033868432044983,
          0.6852846741676331,
          0.6660677790641785,
          0.6630088090896606,
          0.6295510530471802,
          0.6311312317848206,
          0.6125434637069702,
          0.589950680732727,
          0.5813555717468262,
          0.5672013759613037,
          0.5703566074371338,
          0.5636920928955078,
          0.5539140701293945,
          0.5409300327301025,
          0.5419766306877136,
          0.5234277844429016,
          0.5171698927879333,
          0.5156311988830566,
          0.513280987739563,
          0.5123801827430725,
          0.5072795152664185,
          0.49776947498321533,
          0.49812817573547363,
          0.4920544922351837,
          0.48776543140411377,
          0.4824649691581726,
          0.4801556468009949,
          0.4662882387638092,
          0.4712600111961365,
          0.4657347500324249,
          0.46614086627960205,
          0.4680548310279846,
          0.45898520946502686,
          0.45297396183013916,
          0.45075222849845886,
          0.44762054085731506,
          0.44731706380844116,
          0.43771690130233765,
          0.44540420174598694,
          0.43818479776382446,
          0.43173283338546753,
          0.43156054615974426,
          0.43087583780288696,
          0.42424464225769043
         ],
         "yaxis": "y"
        },
        {
         "hovertemplate": "<b>%{hovertext}</b><br><br>variable=sparse_categorical_accuracy<br>Epoch=%{x}<br>Metrics=%{y}<extra></extra>",
         "hovertext": [
          "sparse_categorical_accuracy",
          "sparse_categorical_accuracy",
          "sparse_categorical_accuracy",
          "sparse_categorical_accuracy",
          "sparse_categorical_accuracy",
          "sparse_categorical_accuracy",
          "sparse_categorical_accuracy",
          "sparse_categorical_accuracy",
          "sparse_categorical_accuracy",
          "sparse_categorical_accuracy",
          "sparse_categorical_accuracy",
          "sparse_categorical_accuracy",
          "sparse_categorical_accuracy",
          "sparse_categorical_accuracy",
          "sparse_categorical_accuracy",
          "sparse_categorical_accuracy",
          "sparse_categorical_accuracy",
          "sparse_categorical_accuracy",
          "sparse_categorical_accuracy",
          "sparse_categorical_accuracy",
          "sparse_categorical_accuracy",
          "sparse_categorical_accuracy",
          "sparse_categorical_accuracy",
          "sparse_categorical_accuracy",
          "sparse_categorical_accuracy",
          "sparse_categorical_accuracy",
          "sparse_categorical_accuracy",
          "sparse_categorical_accuracy",
          "sparse_categorical_accuracy",
          "sparse_categorical_accuracy",
          "sparse_categorical_accuracy",
          "sparse_categorical_accuracy",
          "sparse_categorical_accuracy",
          "sparse_categorical_accuracy",
          "sparse_categorical_accuracy",
          "sparse_categorical_accuracy",
          "sparse_categorical_accuracy",
          "sparse_categorical_accuracy",
          "sparse_categorical_accuracy",
          "sparse_categorical_accuracy",
          "sparse_categorical_accuracy",
          "sparse_categorical_accuracy",
          "sparse_categorical_accuracy",
          "sparse_categorical_accuracy",
          "sparse_categorical_accuracy",
          "sparse_categorical_accuracy",
          "sparse_categorical_accuracy",
          "sparse_categorical_accuracy",
          "sparse_categorical_accuracy",
          "sparse_categorical_accuracy",
          "sparse_categorical_accuracy",
          "sparse_categorical_accuracy",
          "sparse_categorical_accuracy",
          "sparse_categorical_accuracy",
          "sparse_categorical_accuracy",
          "sparse_categorical_accuracy",
          "sparse_categorical_accuracy",
          "sparse_categorical_accuracy"
         ],
         "legendgroup": "sparse_categorical_accuracy",
         "line": {
          "color": "#EF553B",
          "dash": "solid"
         },
         "marker": {
          "symbol": "circle"
         },
         "mode": "lines",
         "name": "sparse_categorical_accuracy",
         "orientation": "v",
         "showlegend": true,
         "type": "scatter",
         "x": [
          0,
          1,
          2,
          3,
          4,
          5,
          6,
          7,
          8,
          9,
          10,
          11,
          12,
          13,
          14,
          15,
          16,
          17,
          18,
          19,
          20,
          21,
          22,
          23,
          24,
          25,
          26,
          27,
          28,
          29,
          30,
          31,
          32,
          33,
          34,
          35,
          36,
          37,
          38,
          39,
          40,
          41,
          42,
          43,
          44,
          45,
          46,
          47,
          48,
          49,
          50,
          51,
          52,
          53,
          54,
          55,
          56,
          57
         ],
         "xaxis": "x",
         "y": [
          0.10919047892093658,
          0.173095241189003,
          0.31990477442741394,
          0.4362381100654602,
          0.5151428580284119,
          0.5637142658233643,
          0.596666693687439,
          0.6225237846374512,
          0.647857129573822,
          0.6620952486991882,
          0.6772857308387756,
          0.6899999976158142,
          0.6940000057220459,
          0.7124285697937012,
          0.7240952253341675,
          0.7289047837257385,
          0.7374285459518433,
          0.7418571710586548,
          0.7516666650772095,
          0.753333330154419,
          0.7599047422409058,
          0.7676190733909607,
          0.7738571166992188,
          0.7760000228881836,
          0.772428572177887,
          0.7793333530426025,
          0.7797142863273621,
          0.7870952486991882,
          0.7836190462112427,
          0.7900000214576721,
          0.7908095121383667,
          0.791619062423706,
          0.791857123374939,
          0.7938571572303772,
          0.7931428551673889,
          0.797428548336029,
          0.798714280128479,
          0.7968571186065674,
          0.8017619252204895,
          0.803761899471283,
          0.8052380681037903,
          0.8084762096405029,
          0.8046666383743286,
          0.8091428279876709,
          0.8047618865966797,
          0.8092857003211975,
          0.8095238208770752,
          0.8128095269203186,
          0.8101428747177124,
          0.8095714449882507,
          0.8114761710166931,
          0.8149999976158142,
          0.8107619285583496,
          0.8123809695243835,
          0.8156190514564514,
          0.8150476217269897,
          0.8160476088523865,
          0.8192856907844543
         ],
         "yaxis": "y"
        },
        {
         "hovertemplate": "<b>%{hovertext}</b><br><br>variable=val_loss<br>Epoch=%{x}<br>Metrics=%{y}<extra></extra>",
         "hovertext": [
          "val_loss",
          "val_loss",
          "val_loss",
          "val_loss",
          "val_loss",
          "val_loss",
          "val_loss",
          "val_loss",
          "val_loss",
          "val_loss",
          "val_loss",
          "val_loss",
          "val_loss",
          "val_loss",
          "val_loss",
          "val_loss",
          "val_loss",
          "val_loss",
          "val_loss",
          "val_loss",
          "val_loss",
          "val_loss",
          "val_loss",
          "val_loss",
          "val_loss",
          "val_loss",
          "val_loss",
          "val_loss",
          "val_loss",
          "val_loss",
          "val_loss",
          "val_loss",
          "val_loss",
          "val_loss",
          "val_loss",
          "val_loss",
          "val_loss",
          "val_loss",
          "val_loss",
          "val_loss",
          "val_loss",
          "val_loss",
          "val_loss",
          "val_loss",
          "val_loss",
          "val_loss",
          "val_loss",
          "val_loss",
          "val_loss",
          "val_loss",
          "val_loss",
          "val_loss",
          "val_loss",
          "val_loss",
          "val_loss",
          "val_loss",
          "val_loss",
          "val_loss"
         ],
         "legendgroup": "val_loss",
         "line": {
          "color": "#00cc96",
          "dash": "solid"
         },
         "marker": {
          "symbol": "circle"
         },
         "mode": "lines",
         "name": "val_loss",
         "orientation": "v",
         "showlegend": true,
         "type": "scatter",
         "x": [
          0,
          1,
          2,
          3,
          4,
          5,
          6,
          7,
          8,
          9,
          10,
          11,
          12,
          13,
          14,
          15,
          16,
          17,
          18,
          19,
          20,
          21,
          22,
          23,
          24,
          25,
          26,
          27,
          28,
          29,
          30,
          31,
          32,
          33,
          34,
          35,
          36,
          37,
          38,
          39,
          40,
          41,
          42,
          43,
          44,
          45,
          46,
          47,
          48,
          49,
          50,
          51,
          52,
          53,
          54,
          55,
          56,
          57
         ],
         "xaxis": "x",
         "y": [
          2.2955574989318848,
          2.127821683883667,
          1.5069172382354736,
          1.087937355041504,
          0.8642016053199768,
          0.7350842952728271,
          0.6453763842582703,
          0.5857670903205872,
          0.5423061847686768,
          0.509024977684021,
          0.4769914150238037,
          0.45675206184387207,
          0.43696653842926025,
          0.4148537814617157,
          0.40307167172431946,
          0.38683924078941345,
          0.3753969669342041,
          0.36555662751197815,
          0.35400906205177307,
          0.34423357248306274,
          0.33558040857315063,
          0.326089471578598,
          0.31531813740730286,
          0.312287300825119,
          0.30902567505836487,
          0.302178293466568,
          0.3022521734237671,
          0.2958157956600189,
          0.2934342920780182,
          0.2899360954761505,
          0.28752800822257996,
          0.2860608696937561,
          0.28115883469581604,
          0.2812645435333252,
          0.2780788242816925,
          0.2737065553665161,
          0.27291983366012573,
          0.26720863580703735,
          0.2713027000427246,
          0.2673564851284027,
          0.2648018002510071,
          0.26387596130371094,
          0.26245853304862976,
          0.2610075771808624,
          0.2596917450428009,
          0.26234742999076843,
          0.25913006067276,
          0.2589252293109894,
          0.25823619961738586,
          0.25688421726226807,
          0.25523021817207336,
          0.25270071625709534,
          0.25286170840263367,
          0.25321799516677856,
          0.25093209743499756,
          0.25176191329956055,
          0.24981646239757538,
          0.24846044182777405
         ],
         "yaxis": "y"
        },
        {
         "hovertemplate": "<b>%{hovertext}</b><br><br>variable=val_sparse_categorical_accuracy<br>Epoch=%{x}<br>Metrics=%{y}<extra></extra>",
         "hovertext": [
          "val_sparse_categorical_accuracy",
          "val_sparse_categorical_accuracy",
          "val_sparse_categorical_accuracy",
          "val_sparse_categorical_accuracy",
          "val_sparse_categorical_accuracy",
          "val_sparse_categorical_accuracy",
          "val_sparse_categorical_accuracy",
          "val_sparse_categorical_accuracy",
          "val_sparse_categorical_accuracy",
          "val_sparse_categorical_accuracy",
          "val_sparse_categorical_accuracy",
          "val_sparse_categorical_accuracy",
          "val_sparse_categorical_accuracy",
          "val_sparse_categorical_accuracy",
          "val_sparse_categorical_accuracy",
          "val_sparse_categorical_accuracy",
          "val_sparse_categorical_accuracy",
          "val_sparse_categorical_accuracy",
          "val_sparse_categorical_accuracy",
          "val_sparse_categorical_accuracy",
          "val_sparse_categorical_accuracy",
          "val_sparse_categorical_accuracy",
          "val_sparse_categorical_accuracy",
          "val_sparse_categorical_accuracy",
          "val_sparse_categorical_accuracy",
          "val_sparse_categorical_accuracy",
          "val_sparse_categorical_accuracy",
          "val_sparse_categorical_accuracy",
          "val_sparse_categorical_accuracy",
          "val_sparse_categorical_accuracy",
          "val_sparse_categorical_accuracy",
          "val_sparse_categorical_accuracy",
          "val_sparse_categorical_accuracy",
          "val_sparse_categorical_accuracy",
          "val_sparse_categorical_accuracy",
          "val_sparse_categorical_accuracy",
          "val_sparse_categorical_accuracy",
          "val_sparse_categorical_accuracy",
          "val_sparse_categorical_accuracy",
          "val_sparse_categorical_accuracy",
          "val_sparse_categorical_accuracy",
          "val_sparse_categorical_accuracy",
          "val_sparse_categorical_accuracy",
          "val_sparse_categorical_accuracy",
          "val_sparse_categorical_accuracy",
          "val_sparse_categorical_accuracy",
          "val_sparse_categorical_accuracy",
          "val_sparse_categorical_accuracy",
          "val_sparse_categorical_accuracy",
          "val_sparse_categorical_accuracy",
          "val_sparse_categorical_accuracy",
          "val_sparse_categorical_accuracy",
          "val_sparse_categorical_accuracy",
          "val_sparse_categorical_accuracy",
          "val_sparse_categorical_accuracy",
          "val_sparse_categorical_accuracy",
          "val_sparse_categorical_accuracy",
          "val_sparse_categorical_accuracy"
         ],
         "legendgroup": "val_sparse_categorical_accuracy",
         "line": {
          "color": "#ab63fa",
          "dash": "solid"
         },
         "marker": {
          "symbol": "circle"
         },
         "mode": "lines",
         "name": "val_sparse_categorical_accuracy",
         "orientation": "v",
         "showlegend": true,
         "type": "scatter",
         "x": [
          0,
          1,
          2,
          3,
          4,
          5,
          6,
          7,
          8,
          9,
          10,
          11,
          12,
          13,
          14,
          15,
          16,
          17,
          18,
          19,
          20,
          21,
          22,
          23,
          24,
          25,
          26,
          27,
          28,
          29,
          30,
          31,
          32,
          33,
          34,
          35,
          36,
          37,
          38,
          39,
          40,
          41,
          42,
          43,
          44,
          45,
          46,
          47,
          48,
          49,
          50,
          51,
          52,
          53,
          54,
          55,
          56,
          57
         ],
         "xaxis": "x",
         "y": [
          0.12288888543844223,
          0.4167777895927429,
          0.6312222480773926,
          0.7327777743339539,
          0.7860000133514404,
          0.8075555562973022,
          0.8192222118377686,
          0.832444429397583,
          0.840666651725769,
          0.8371111154556274,
          0.8474444150924683,
          0.8462222218513489,
          0.8472222089767456,
          0.8451111316680908,
          0.8533333539962769,
          0.8592222332954407,
          0.8566666841506958,
          0.8565555810928345,
          0.854888916015625,
          0.8575555682182312,
          0.8619999885559082,
          0.862666666507721,
          0.8657777905464172,
          0.8658888936042786,
          0.8692222237586975,
          0.8704444169998169,
          0.867888867855072,
          0.862666666507721,
          0.8700000047683716,
          0.8726666569709778,
          0.866777777671814,
          0.870888888835907,
          0.870555579662323,
          0.8732222318649292,
          0.8640000224113464,
          0.8726666569709778,
          0.8691111207008362,
          0.879111111164093,
          0.867222249507904,
          0.8763333559036255,
          0.8761110901832581,
          0.8743333220481873,
          0.8772222399711609,
          0.8766666650772095,
          0.8772222399711609,
          0.8725555539131165,
          0.8767777681350708,
          0.8730000257492065,
          0.8756666779518127,
          0.8743333220481873,
          0.878777801990509,
          0.8745555281639099,
          0.8713333606719971,
          0.871999979019165,
          0.8691111207008362,
          0.8747777938842773,
          0.875,
          0.8764444589614868
         ],
         "yaxis": "y"
        }
       ],
       "layout": {
        "legend": {
         "title": {
          "text": "variable"
         },
         "tracegroupgap": 0
        },
        "template": {
         "data": {
          "bar": [
           {
            "error_x": {
             "color": "#2a3f5f"
            },
            "error_y": {
             "color": "#2a3f5f"
            },
            "marker": {
             "line": {
              "color": "#E5ECF6",
              "width": 0.5
             },
             "pattern": {
              "fillmode": "overlay",
              "size": 10,
              "solidity": 0.2
             }
            },
            "type": "bar"
           }
          ],
          "barpolar": [
           {
            "marker": {
             "line": {
              "color": "#E5ECF6",
              "width": 0.5
             },
             "pattern": {
              "fillmode": "overlay",
              "size": 10,
              "solidity": 0.2
             }
            },
            "type": "barpolar"
           }
          ],
          "carpet": [
           {
            "aaxis": {
             "endlinecolor": "#2a3f5f",
             "gridcolor": "white",
             "linecolor": "white",
             "minorgridcolor": "white",
             "startlinecolor": "#2a3f5f"
            },
            "baxis": {
             "endlinecolor": "#2a3f5f",
             "gridcolor": "white",
             "linecolor": "white",
             "minorgridcolor": "white",
             "startlinecolor": "#2a3f5f"
            },
            "type": "carpet"
           }
          ],
          "choropleth": [
           {
            "colorbar": {
             "outlinewidth": 0,
             "ticks": ""
            },
            "type": "choropleth"
           }
          ],
          "contour": [
           {
            "colorbar": {
             "outlinewidth": 0,
             "ticks": ""
            },
            "colorscale": [
             [
              0,
              "#0d0887"
             ],
             [
              0.1111111111111111,
              "#46039f"
             ],
             [
              0.2222222222222222,
              "#7201a8"
             ],
             [
              0.3333333333333333,
              "#9c179e"
             ],
             [
              0.4444444444444444,
              "#bd3786"
             ],
             [
              0.5555555555555556,
              "#d8576b"
             ],
             [
              0.6666666666666666,
              "#ed7953"
             ],
             [
              0.7777777777777778,
              "#fb9f3a"
             ],
             [
              0.8888888888888888,
              "#fdca26"
             ],
             [
              1,
              "#f0f921"
             ]
            ],
            "type": "contour"
           }
          ],
          "contourcarpet": [
           {
            "colorbar": {
             "outlinewidth": 0,
             "ticks": ""
            },
            "type": "contourcarpet"
           }
          ],
          "heatmap": [
           {
            "colorbar": {
             "outlinewidth": 0,
             "ticks": ""
            },
            "colorscale": [
             [
              0,
              "#0d0887"
             ],
             [
              0.1111111111111111,
              "#46039f"
             ],
             [
              0.2222222222222222,
              "#7201a8"
             ],
             [
              0.3333333333333333,
              "#9c179e"
             ],
             [
              0.4444444444444444,
              "#bd3786"
             ],
             [
              0.5555555555555556,
              "#d8576b"
             ],
             [
              0.6666666666666666,
              "#ed7953"
             ],
             [
              0.7777777777777778,
              "#fb9f3a"
             ],
             [
              0.8888888888888888,
              "#fdca26"
             ],
             [
              1,
              "#f0f921"
             ]
            ],
            "type": "heatmap"
           }
          ],
          "heatmapgl": [
           {
            "colorbar": {
             "outlinewidth": 0,
             "ticks": ""
            },
            "colorscale": [
             [
              0,
              "#0d0887"
             ],
             [
              0.1111111111111111,
              "#46039f"
             ],
             [
              0.2222222222222222,
              "#7201a8"
             ],
             [
              0.3333333333333333,
              "#9c179e"
             ],
             [
              0.4444444444444444,
              "#bd3786"
             ],
             [
              0.5555555555555556,
              "#d8576b"
             ],
             [
              0.6666666666666666,
              "#ed7953"
             ],
             [
              0.7777777777777778,
              "#fb9f3a"
             ],
             [
              0.8888888888888888,
              "#fdca26"
             ],
             [
              1,
              "#f0f921"
             ]
            ],
            "type": "heatmapgl"
           }
          ],
          "histogram": [
           {
            "marker": {
             "pattern": {
              "fillmode": "overlay",
              "size": 10,
              "solidity": 0.2
             }
            },
            "type": "histogram"
           }
          ],
          "histogram2d": [
           {
            "colorbar": {
             "outlinewidth": 0,
             "ticks": ""
            },
            "colorscale": [
             [
              0,
              "#0d0887"
             ],
             [
              0.1111111111111111,
              "#46039f"
             ],
             [
              0.2222222222222222,
              "#7201a8"
             ],
             [
              0.3333333333333333,
              "#9c179e"
             ],
             [
              0.4444444444444444,
              "#bd3786"
             ],
             [
              0.5555555555555556,
              "#d8576b"
             ],
             [
              0.6666666666666666,
              "#ed7953"
             ],
             [
              0.7777777777777778,
              "#fb9f3a"
             ],
             [
              0.8888888888888888,
              "#fdca26"
             ],
             [
              1,
              "#f0f921"
             ]
            ],
            "type": "histogram2d"
           }
          ],
          "histogram2dcontour": [
           {
            "colorbar": {
             "outlinewidth": 0,
             "ticks": ""
            },
            "colorscale": [
             [
              0,
              "#0d0887"
             ],
             [
              0.1111111111111111,
              "#46039f"
             ],
             [
              0.2222222222222222,
              "#7201a8"
             ],
             [
              0.3333333333333333,
              "#9c179e"
             ],
             [
              0.4444444444444444,
              "#bd3786"
             ],
             [
              0.5555555555555556,
              "#d8576b"
             ],
             [
              0.6666666666666666,
              "#ed7953"
             ],
             [
              0.7777777777777778,
              "#fb9f3a"
             ],
             [
              0.8888888888888888,
              "#fdca26"
             ],
             [
              1,
              "#f0f921"
             ]
            ],
            "type": "histogram2dcontour"
           }
          ],
          "mesh3d": [
           {
            "colorbar": {
             "outlinewidth": 0,
             "ticks": ""
            },
            "type": "mesh3d"
           }
          ],
          "parcoords": [
           {
            "line": {
             "colorbar": {
              "outlinewidth": 0,
              "ticks": ""
             }
            },
            "type": "parcoords"
           }
          ],
          "pie": [
           {
            "automargin": true,
            "type": "pie"
           }
          ],
          "scatter": [
           {
            "fillpattern": {
             "fillmode": "overlay",
             "size": 10,
             "solidity": 0.2
            },
            "type": "scatter"
           }
          ],
          "scatter3d": [
           {
            "line": {
             "colorbar": {
              "outlinewidth": 0,
              "ticks": ""
             }
            },
            "marker": {
             "colorbar": {
              "outlinewidth": 0,
              "ticks": ""
             }
            },
            "type": "scatter3d"
           }
          ],
          "scattercarpet": [
           {
            "marker": {
             "colorbar": {
              "outlinewidth": 0,
              "ticks": ""
             }
            },
            "type": "scattercarpet"
           }
          ],
          "scattergeo": [
           {
            "marker": {
             "colorbar": {
              "outlinewidth": 0,
              "ticks": ""
             }
            },
            "type": "scattergeo"
           }
          ],
          "scattergl": [
           {
            "marker": {
             "colorbar": {
              "outlinewidth": 0,
              "ticks": ""
             }
            },
            "type": "scattergl"
           }
          ],
          "scattermapbox": [
           {
            "marker": {
             "colorbar": {
              "outlinewidth": 0,
              "ticks": ""
             }
            },
            "type": "scattermapbox"
           }
          ],
          "scatterpolar": [
           {
            "marker": {
             "colorbar": {
              "outlinewidth": 0,
              "ticks": ""
             }
            },
            "type": "scatterpolar"
           }
          ],
          "scatterpolargl": [
           {
            "marker": {
             "colorbar": {
              "outlinewidth": 0,
              "ticks": ""
             }
            },
            "type": "scatterpolargl"
           }
          ],
          "scatterternary": [
           {
            "marker": {
             "colorbar": {
              "outlinewidth": 0,
              "ticks": ""
             }
            },
            "type": "scatterternary"
           }
          ],
          "surface": [
           {
            "colorbar": {
             "outlinewidth": 0,
             "ticks": ""
            },
            "colorscale": [
             [
              0,
              "#0d0887"
             ],
             [
              0.1111111111111111,
              "#46039f"
             ],
             [
              0.2222222222222222,
              "#7201a8"
             ],
             [
              0.3333333333333333,
              "#9c179e"
             ],
             [
              0.4444444444444444,
              "#bd3786"
             ],
             [
              0.5555555555555556,
              "#d8576b"
             ],
             [
              0.6666666666666666,
              "#ed7953"
             ],
             [
              0.7777777777777778,
              "#fb9f3a"
             ],
             [
              0.8888888888888888,
              "#fdca26"
             ],
             [
              1,
              "#f0f921"
             ]
            ],
            "type": "surface"
           }
          ],
          "table": [
           {
            "cells": {
             "fill": {
              "color": "#EBF0F8"
             },
             "line": {
              "color": "white"
             }
            },
            "header": {
             "fill": {
              "color": "#C8D4E3"
             },
             "line": {
              "color": "white"
             }
            },
            "type": "table"
           }
          ]
         },
         "layout": {
          "annotationdefaults": {
           "arrowcolor": "#2a3f5f",
           "arrowhead": 0,
           "arrowwidth": 1
          },
          "autotypenumbers": "strict",
          "coloraxis": {
           "colorbar": {
            "outlinewidth": 0,
            "ticks": ""
           }
          },
          "colorscale": {
           "diverging": [
            [
             0,
             "#8e0152"
            ],
            [
             0.1,
             "#c51b7d"
            ],
            [
             0.2,
             "#de77ae"
            ],
            [
             0.3,
             "#f1b6da"
            ],
            [
             0.4,
             "#fde0ef"
            ],
            [
             0.5,
             "#f7f7f7"
            ],
            [
             0.6,
             "#e6f5d0"
            ],
            [
             0.7,
             "#b8e186"
            ],
            [
             0.8,
             "#7fbc41"
            ],
            [
             0.9,
             "#4d9221"
            ],
            [
             1,
             "#276419"
            ]
           ],
           "sequential": [
            [
             0,
             "#0d0887"
            ],
            [
             0.1111111111111111,
             "#46039f"
            ],
            [
             0.2222222222222222,
             "#7201a8"
            ],
            [
             0.3333333333333333,
             "#9c179e"
            ],
            [
             0.4444444444444444,
             "#bd3786"
            ],
            [
             0.5555555555555556,
             "#d8576b"
            ],
            [
             0.6666666666666666,
             "#ed7953"
            ],
            [
             0.7777777777777778,
             "#fb9f3a"
            ],
            [
             0.8888888888888888,
             "#fdca26"
            ],
            [
             1,
             "#f0f921"
            ]
           ],
           "sequentialminus": [
            [
             0,
             "#0d0887"
            ],
            [
             0.1111111111111111,
             "#46039f"
            ],
            [
             0.2222222222222222,
             "#7201a8"
            ],
            [
             0.3333333333333333,
             "#9c179e"
            ],
            [
             0.4444444444444444,
             "#bd3786"
            ],
            [
             0.5555555555555556,
             "#d8576b"
            ],
            [
             0.6666666666666666,
             "#ed7953"
            ],
            [
             0.7777777777777778,
             "#fb9f3a"
            ],
            [
             0.8888888888888888,
             "#fdca26"
            ],
            [
             1,
             "#f0f921"
            ]
           ]
          },
          "colorway": [
           "#636efa",
           "#EF553B",
           "#00cc96",
           "#ab63fa",
           "#FFA15A",
           "#19d3f3",
           "#FF6692",
           "#B6E880",
           "#FF97FF",
           "#FECB52"
          ],
          "font": {
           "color": "#2a3f5f"
          },
          "geo": {
           "bgcolor": "white",
           "lakecolor": "white",
           "landcolor": "#E5ECF6",
           "showlakes": true,
           "showland": true,
           "subunitcolor": "white"
          },
          "hoverlabel": {
           "align": "left"
          },
          "hovermode": "closest",
          "mapbox": {
           "style": "light"
          },
          "paper_bgcolor": "white",
          "plot_bgcolor": "#E5ECF6",
          "polar": {
           "angularaxis": {
            "gridcolor": "white",
            "linecolor": "white",
            "ticks": ""
           },
           "bgcolor": "#E5ECF6",
           "radialaxis": {
            "gridcolor": "white",
            "linecolor": "white",
            "ticks": ""
           }
          },
          "scene": {
           "xaxis": {
            "backgroundcolor": "#E5ECF6",
            "gridcolor": "white",
            "gridwidth": 2,
            "linecolor": "white",
            "showbackground": true,
            "ticks": "",
            "zerolinecolor": "white"
           },
           "yaxis": {
            "backgroundcolor": "#E5ECF6",
            "gridcolor": "white",
            "gridwidth": 2,
            "linecolor": "white",
            "showbackground": true,
            "ticks": "",
            "zerolinecolor": "white"
           },
           "zaxis": {
            "backgroundcolor": "#E5ECF6",
            "gridcolor": "white",
            "gridwidth": 2,
            "linecolor": "white",
            "showbackground": true,
            "ticks": "",
            "zerolinecolor": "white"
           }
          },
          "shapedefaults": {
           "line": {
            "color": "#2a3f5f"
           }
          },
          "ternary": {
           "aaxis": {
            "gridcolor": "white",
            "linecolor": "white",
            "ticks": ""
           },
           "baxis": {
            "gridcolor": "white",
            "linecolor": "white",
            "ticks": ""
           },
           "bgcolor": "#E5ECF6",
           "caxis": {
            "gridcolor": "white",
            "linecolor": "white",
            "ticks": ""
           }
          },
          "title": {
           "x": 0.05
          },
          "xaxis": {
           "automargin": true,
           "gridcolor": "white",
           "linecolor": "white",
           "ticks": "",
           "title": {
            "standoff": 15
           },
           "zerolinecolor": "white",
           "zerolinewidth": 2
          },
          "yaxis": {
           "automargin": true,
           "gridcolor": "white",
           "linecolor": "white",
           "ticks": "",
           "title": {
            "standoff": 15
           },
           "zerolinecolor": "white",
           "zerolinewidth": 2
          }
         }
        },
        "title": {
         "text": "Model Training"
        },
        "xaxis": {
         "anchor": "y",
         "domain": [
          0,
          1
         ],
         "title": {
          "text": "Epoch"
         }
        },
        "yaxis": {
         "anchor": "x",
         "domain": [
          0,
          1
         ],
         "title": {
          "text": "Metrics"
         }
        }
       }
      },
      "text/html": [
       "<div>                            <div id=\"237319bc-f6d4-4ffe-96a2-b44c3161a127\" class=\"plotly-graph-div\" style=\"height:525px; width:100%;\"></div>            <script type=\"text/javascript\">                require([\"plotly\"], function(Plotly) {                    window.PLOTLYENV=window.PLOTLYENV || {};                                    if (document.getElementById(\"237319bc-f6d4-4ffe-96a2-b44c3161a127\")) {                    Plotly.newPlot(                        \"237319bc-f6d4-4ffe-96a2-b44c3161a127\",                        [{\"hovertemplate\":\"<b>%{hovertext}</b><br><br>variable=loss<br>Epoch=%{x}<br>Metrics=%{y}<extra></extra>\",\"hovertext\":[\"loss\",\"loss\",\"loss\",\"loss\",\"loss\",\"loss\",\"loss\",\"loss\",\"loss\",\"loss\",\"loss\",\"loss\",\"loss\",\"loss\",\"loss\",\"loss\",\"loss\",\"loss\",\"loss\",\"loss\",\"loss\",\"loss\",\"loss\",\"loss\",\"loss\",\"loss\",\"loss\",\"loss\",\"loss\",\"loss\",\"loss\",\"loss\",\"loss\",\"loss\",\"loss\",\"loss\",\"loss\",\"loss\",\"loss\",\"loss\",\"loss\",\"loss\",\"loss\",\"loss\",\"loss\",\"loss\",\"loss\",\"loss\",\"loss\",\"loss\",\"loss\",\"loss\",\"loss\",\"loss\",\"loss\",\"loss\",\"loss\",\"loss\"],\"legendgroup\":\"loss\",\"line\":{\"color\":\"#636efa\",\"dash\":\"solid\"},\"marker\":{\"symbol\":\"circle\"},\"mode\":\"lines\",\"name\":\"loss\",\"orientation\":\"v\",\"showlegend\":true,\"x\":[0,1,2,3,4,5,6,7,8,9,10,11,12,13,14,15,16,17,18,19,20,21,22,23,24,25,26,27,28,29,30,31,32,33,34,35,36,37,38,39,40,41,42,43,44,45,46,47,48,49,50,51,52,53,54,55,56,57],\"xaxis\":\"x\",\"y\":[2.3010849952697754,2.2597084045410156,1.9315974712371826,1.5255755186080933,1.2824076414108276,1.1395765542984009,1.0337629318237305,0.965748131275177,0.9037367701530457,0.8673213124275208,0.8253610730171204,0.7864140868186951,0.7721930742263794,0.7250475287437439,0.7033868432044983,0.6852846741676331,0.6660677790641785,0.6630088090896606,0.6295510530471802,0.6311312317848206,0.6125434637069702,0.589950680732727,0.5813555717468262,0.5672013759613037,0.5703566074371338,0.5636920928955078,0.5539140701293945,0.5409300327301025,0.5419766306877136,0.5234277844429016,0.5171698927879333,0.5156311988830566,0.513280987739563,0.5123801827430725,0.5072795152664185,0.49776947498321533,0.49812817573547363,0.4920544922351837,0.48776543140411377,0.4824649691581726,0.4801556468009949,0.4662882387638092,0.4712600111961365,0.4657347500324249,0.46614086627960205,0.4680548310279846,0.45898520946502686,0.45297396183013916,0.45075222849845886,0.44762054085731506,0.44731706380844116,0.43771690130233765,0.44540420174598694,0.43818479776382446,0.43173283338546753,0.43156054615974426,0.43087583780288696,0.42424464225769043],\"yaxis\":\"y\",\"type\":\"scatter\"},{\"hovertemplate\":\"<b>%{hovertext}</b><br><br>variable=sparse_categorical_accuracy<br>Epoch=%{x}<br>Metrics=%{y}<extra></extra>\",\"hovertext\":[\"sparse_categorical_accuracy\",\"sparse_categorical_accuracy\",\"sparse_categorical_accuracy\",\"sparse_categorical_accuracy\",\"sparse_categorical_accuracy\",\"sparse_categorical_accuracy\",\"sparse_categorical_accuracy\",\"sparse_categorical_accuracy\",\"sparse_categorical_accuracy\",\"sparse_categorical_accuracy\",\"sparse_categorical_accuracy\",\"sparse_categorical_accuracy\",\"sparse_categorical_accuracy\",\"sparse_categorical_accuracy\",\"sparse_categorical_accuracy\",\"sparse_categorical_accuracy\",\"sparse_categorical_accuracy\",\"sparse_categorical_accuracy\",\"sparse_categorical_accuracy\",\"sparse_categorical_accuracy\",\"sparse_categorical_accuracy\",\"sparse_categorical_accuracy\",\"sparse_categorical_accuracy\",\"sparse_categorical_accuracy\",\"sparse_categorical_accuracy\",\"sparse_categorical_accuracy\",\"sparse_categorical_accuracy\",\"sparse_categorical_accuracy\",\"sparse_categorical_accuracy\",\"sparse_categorical_accuracy\",\"sparse_categorical_accuracy\",\"sparse_categorical_accuracy\",\"sparse_categorical_accuracy\",\"sparse_categorical_accuracy\",\"sparse_categorical_accuracy\",\"sparse_categorical_accuracy\",\"sparse_categorical_accuracy\",\"sparse_categorical_accuracy\",\"sparse_categorical_accuracy\",\"sparse_categorical_accuracy\",\"sparse_categorical_accuracy\",\"sparse_categorical_accuracy\",\"sparse_categorical_accuracy\",\"sparse_categorical_accuracy\",\"sparse_categorical_accuracy\",\"sparse_categorical_accuracy\",\"sparse_categorical_accuracy\",\"sparse_categorical_accuracy\",\"sparse_categorical_accuracy\",\"sparse_categorical_accuracy\",\"sparse_categorical_accuracy\",\"sparse_categorical_accuracy\",\"sparse_categorical_accuracy\",\"sparse_categorical_accuracy\",\"sparse_categorical_accuracy\",\"sparse_categorical_accuracy\",\"sparse_categorical_accuracy\",\"sparse_categorical_accuracy\"],\"legendgroup\":\"sparse_categorical_accuracy\",\"line\":{\"color\":\"#EF553B\",\"dash\":\"solid\"},\"marker\":{\"symbol\":\"circle\"},\"mode\":\"lines\",\"name\":\"sparse_categorical_accuracy\",\"orientation\":\"v\",\"showlegend\":true,\"x\":[0,1,2,3,4,5,6,7,8,9,10,11,12,13,14,15,16,17,18,19,20,21,22,23,24,25,26,27,28,29,30,31,32,33,34,35,36,37,38,39,40,41,42,43,44,45,46,47,48,49,50,51,52,53,54,55,56,57],\"xaxis\":\"x\",\"y\":[0.10919047892093658,0.173095241189003,0.31990477442741394,0.4362381100654602,0.5151428580284119,0.5637142658233643,0.596666693687439,0.6225237846374512,0.647857129573822,0.6620952486991882,0.6772857308387756,0.6899999976158142,0.6940000057220459,0.7124285697937012,0.7240952253341675,0.7289047837257385,0.7374285459518433,0.7418571710586548,0.7516666650772095,0.753333330154419,0.7599047422409058,0.7676190733909607,0.7738571166992188,0.7760000228881836,0.772428572177887,0.7793333530426025,0.7797142863273621,0.7870952486991882,0.7836190462112427,0.7900000214576721,0.7908095121383667,0.791619062423706,0.791857123374939,0.7938571572303772,0.7931428551673889,0.797428548336029,0.798714280128479,0.7968571186065674,0.8017619252204895,0.803761899471283,0.8052380681037903,0.8084762096405029,0.8046666383743286,0.8091428279876709,0.8047618865966797,0.8092857003211975,0.8095238208770752,0.8128095269203186,0.8101428747177124,0.8095714449882507,0.8114761710166931,0.8149999976158142,0.8107619285583496,0.8123809695243835,0.8156190514564514,0.8150476217269897,0.8160476088523865,0.8192856907844543],\"yaxis\":\"y\",\"type\":\"scatter\"},{\"hovertemplate\":\"<b>%{hovertext}</b><br><br>variable=val_loss<br>Epoch=%{x}<br>Metrics=%{y}<extra></extra>\",\"hovertext\":[\"val_loss\",\"val_loss\",\"val_loss\",\"val_loss\",\"val_loss\",\"val_loss\",\"val_loss\",\"val_loss\",\"val_loss\",\"val_loss\",\"val_loss\",\"val_loss\",\"val_loss\",\"val_loss\",\"val_loss\",\"val_loss\",\"val_loss\",\"val_loss\",\"val_loss\",\"val_loss\",\"val_loss\",\"val_loss\",\"val_loss\",\"val_loss\",\"val_loss\",\"val_loss\",\"val_loss\",\"val_loss\",\"val_loss\",\"val_loss\",\"val_loss\",\"val_loss\",\"val_loss\",\"val_loss\",\"val_loss\",\"val_loss\",\"val_loss\",\"val_loss\",\"val_loss\",\"val_loss\",\"val_loss\",\"val_loss\",\"val_loss\",\"val_loss\",\"val_loss\",\"val_loss\",\"val_loss\",\"val_loss\",\"val_loss\",\"val_loss\",\"val_loss\",\"val_loss\",\"val_loss\",\"val_loss\",\"val_loss\",\"val_loss\",\"val_loss\",\"val_loss\"],\"legendgroup\":\"val_loss\",\"line\":{\"color\":\"#00cc96\",\"dash\":\"solid\"},\"marker\":{\"symbol\":\"circle\"},\"mode\":\"lines\",\"name\":\"val_loss\",\"orientation\":\"v\",\"showlegend\":true,\"x\":[0,1,2,3,4,5,6,7,8,9,10,11,12,13,14,15,16,17,18,19,20,21,22,23,24,25,26,27,28,29,30,31,32,33,34,35,36,37,38,39,40,41,42,43,44,45,46,47,48,49,50,51,52,53,54,55,56,57],\"xaxis\":\"x\",\"y\":[2.2955574989318848,2.127821683883667,1.5069172382354736,1.087937355041504,0.8642016053199768,0.7350842952728271,0.6453763842582703,0.5857670903205872,0.5423061847686768,0.509024977684021,0.4769914150238037,0.45675206184387207,0.43696653842926025,0.4148537814617157,0.40307167172431946,0.38683924078941345,0.3753969669342041,0.36555662751197815,0.35400906205177307,0.34423357248306274,0.33558040857315063,0.326089471578598,0.31531813740730286,0.312287300825119,0.30902567505836487,0.302178293466568,0.3022521734237671,0.2958157956600189,0.2934342920780182,0.2899360954761505,0.28752800822257996,0.2860608696937561,0.28115883469581604,0.2812645435333252,0.2780788242816925,0.2737065553665161,0.27291983366012573,0.26720863580703735,0.2713027000427246,0.2673564851284027,0.2648018002510071,0.26387596130371094,0.26245853304862976,0.2610075771808624,0.2596917450428009,0.26234742999076843,0.25913006067276,0.2589252293109894,0.25823619961738586,0.25688421726226807,0.25523021817207336,0.25270071625709534,0.25286170840263367,0.25321799516677856,0.25093209743499756,0.25176191329956055,0.24981646239757538,0.24846044182777405],\"yaxis\":\"y\",\"type\":\"scatter\"},{\"hovertemplate\":\"<b>%{hovertext}</b><br><br>variable=val_sparse_categorical_accuracy<br>Epoch=%{x}<br>Metrics=%{y}<extra></extra>\",\"hovertext\":[\"val_sparse_categorical_accuracy\",\"val_sparse_categorical_accuracy\",\"val_sparse_categorical_accuracy\",\"val_sparse_categorical_accuracy\",\"val_sparse_categorical_accuracy\",\"val_sparse_categorical_accuracy\",\"val_sparse_categorical_accuracy\",\"val_sparse_categorical_accuracy\",\"val_sparse_categorical_accuracy\",\"val_sparse_categorical_accuracy\",\"val_sparse_categorical_accuracy\",\"val_sparse_categorical_accuracy\",\"val_sparse_categorical_accuracy\",\"val_sparse_categorical_accuracy\",\"val_sparse_categorical_accuracy\",\"val_sparse_categorical_accuracy\",\"val_sparse_categorical_accuracy\",\"val_sparse_categorical_accuracy\",\"val_sparse_categorical_accuracy\",\"val_sparse_categorical_accuracy\",\"val_sparse_categorical_accuracy\",\"val_sparse_categorical_accuracy\",\"val_sparse_categorical_accuracy\",\"val_sparse_categorical_accuracy\",\"val_sparse_categorical_accuracy\",\"val_sparse_categorical_accuracy\",\"val_sparse_categorical_accuracy\",\"val_sparse_categorical_accuracy\",\"val_sparse_categorical_accuracy\",\"val_sparse_categorical_accuracy\",\"val_sparse_categorical_accuracy\",\"val_sparse_categorical_accuracy\",\"val_sparse_categorical_accuracy\",\"val_sparse_categorical_accuracy\",\"val_sparse_categorical_accuracy\",\"val_sparse_categorical_accuracy\",\"val_sparse_categorical_accuracy\",\"val_sparse_categorical_accuracy\",\"val_sparse_categorical_accuracy\",\"val_sparse_categorical_accuracy\",\"val_sparse_categorical_accuracy\",\"val_sparse_categorical_accuracy\",\"val_sparse_categorical_accuracy\",\"val_sparse_categorical_accuracy\",\"val_sparse_categorical_accuracy\",\"val_sparse_categorical_accuracy\",\"val_sparse_categorical_accuracy\",\"val_sparse_categorical_accuracy\",\"val_sparse_categorical_accuracy\",\"val_sparse_categorical_accuracy\",\"val_sparse_categorical_accuracy\",\"val_sparse_categorical_accuracy\",\"val_sparse_categorical_accuracy\",\"val_sparse_categorical_accuracy\",\"val_sparse_categorical_accuracy\",\"val_sparse_categorical_accuracy\",\"val_sparse_categorical_accuracy\",\"val_sparse_categorical_accuracy\"],\"legendgroup\":\"val_sparse_categorical_accuracy\",\"line\":{\"color\":\"#ab63fa\",\"dash\":\"solid\"},\"marker\":{\"symbol\":\"circle\"},\"mode\":\"lines\",\"name\":\"val_sparse_categorical_accuracy\",\"orientation\":\"v\",\"showlegend\":true,\"x\":[0,1,2,3,4,5,6,7,8,9,10,11,12,13,14,15,16,17,18,19,20,21,22,23,24,25,26,27,28,29,30,31,32,33,34,35,36,37,38,39,40,41,42,43,44,45,46,47,48,49,50,51,52,53,54,55,56,57],\"xaxis\":\"x\",\"y\":[0.12288888543844223,0.4167777895927429,0.6312222480773926,0.7327777743339539,0.7860000133514404,0.8075555562973022,0.8192222118377686,0.832444429397583,0.840666651725769,0.8371111154556274,0.8474444150924683,0.8462222218513489,0.8472222089767456,0.8451111316680908,0.8533333539962769,0.8592222332954407,0.8566666841506958,0.8565555810928345,0.854888916015625,0.8575555682182312,0.8619999885559082,0.862666666507721,0.8657777905464172,0.8658888936042786,0.8692222237586975,0.8704444169998169,0.867888867855072,0.862666666507721,0.8700000047683716,0.8726666569709778,0.866777777671814,0.870888888835907,0.870555579662323,0.8732222318649292,0.8640000224113464,0.8726666569709778,0.8691111207008362,0.879111111164093,0.867222249507904,0.8763333559036255,0.8761110901832581,0.8743333220481873,0.8772222399711609,0.8766666650772095,0.8772222399711609,0.8725555539131165,0.8767777681350708,0.8730000257492065,0.8756666779518127,0.8743333220481873,0.878777801990509,0.8745555281639099,0.8713333606719971,0.871999979019165,0.8691111207008362,0.8747777938842773,0.875,0.8764444589614868],\"yaxis\":\"y\",\"type\":\"scatter\"}],                        {\"template\":{\"data\":{\"histogram2dcontour\":[{\"type\":\"histogram2dcontour\",\"colorbar\":{\"outlinewidth\":0,\"ticks\":\"\"},\"colorscale\":[[0.0,\"#0d0887\"],[0.1111111111111111,\"#46039f\"],[0.2222222222222222,\"#7201a8\"],[0.3333333333333333,\"#9c179e\"],[0.4444444444444444,\"#bd3786\"],[0.5555555555555556,\"#d8576b\"],[0.6666666666666666,\"#ed7953\"],[0.7777777777777778,\"#fb9f3a\"],[0.8888888888888888,\"#fdca26\"],[1.0,\"#f0f921\"]]}],\"choropleth\":[{\"type\":\"choropleth\",\"colorbar\":{\"outlinewidth\":0,\"ticks\":\"\"}}],\"histogram2d\":[{\"type\":\"histogram2d\",\"colorbar\":{\"outlinewidth\":0,\"ticks\":\"\"},\"colorscale\":[[0.0,\"#0d0887\"],[0.1111111111111111,\"#46039f\"],[0.2222222222222222,\"#7201a8\"],[0.3333333333333333,\"#9c179e\"],[0.4444444444444444,\"#bd3786\"],[0.5555555555555556,\"#d8576b\"],[0.6666666666666666,\"#ed7953\"],[0.7777777777777778,\"#fb9f3a\"],[0.8888888888888888,\"#fdca26\"],[1.0,\"#f0f921\"]]}],\"heatmap\":[{\"type\":\"heatmap\",\"colorbar\":{\"outlinewidth\":0,\"ticks\":\"\"},\"colorscale\":[[0.0,\"#0d0887\"],[0.1111111111111111,\"#46039f\"],[0.2222222222222222,\"#7201a8\"],[0.3333333333333333,\"#9c179e\"],[0.4444444444444444,\"#bd3786\"],[0.5555555555555556,\"#d8576b\"],[0.6666666666666666,\"#ed7953\"],[0.7777777777777778,\"#fb9f3a\"],[0.8888888888888888,\"#fdca26\"],[1.0,\"#f0f921\"]]}],\"heatmapgl\":[{\"type\":\"heatmapgl\",\"colorbar\":{\"outlinewidth\":0,\"ticks\":\"\"},\"colorscale\":[[0.0,\"#0d0887\"],[0.1111111111111111,\"#46039f\"],[0.2222222222222222,\"#7201a8\"],[0.3333333333333333,\"#9c179e\"],[0.4444444444444444,\"#bd3786\"],[0.5555555555555556,\"#d8576b\"],[0.6666666666666666,\"#ed7953\"],[0.7777777777777778,\"#fb9f3a\"],[0.8888888888888888,\"#fdca26\"],[1.0,\"#f0f921\"]]}],\"contourcarpet\":[{\"type\":\"contourcarpet\",\"colorbar\":{\"outlinewidth\":0,\"ticks\":\"\"}}],\"contour\":[{\"type\":\"contour\",\"colorbar\":{\"outlinewidth\":0,\"ticks\":\"\"},\"colorscale\":[[0.0,\"#0d0887\"],[0.1111111111111111,\"#46039f\"],[0.2222222222222222,\"#7201a8\"],[0.3333333333333333,\"#9c179e\"],[0.4444444444444444,\"#bd3786\"],[0.5555555555555556,\"#d8576b\"],[0.6666666666666666,\"#ed7953\"],[0.7777777777777778,\"#fb9f3a\"],[0.8888888888888888,\"#fdca26\"],[1.0,\"#f0f921\"]]}],\"surface\":[{\"type\":\"surface\",\"colorbar\":{\"outlinewidth\":0,\"ticks\":\"\"},\"colorscale\":[[0.0,\"#0d0887\"],[0.1111111111111111,\"#46039f\"],[0.2222222222222222,\"#7201a8\"],[0.3333333333333333,\"#9c179e\"],[0.4444444444444444,\"#bd3786\"],[0.5555555555555556,\"#d8576b\"],[0.6666666666666666,\"#ed7953\"],[0.7777777777777778,\"#fb9f3a\"],[0.8888888888888888,\"#fdca26\"],[1.0,\"#f0f921\"]]}],\"mesh3d\":[{\"type\":\"mesh3d\",\"colorbar\":{\"outlinewidth\":0,\"ticks\":\"\"}}],\"scatter\":[{\"fillpattern\":{\"fillmode\":\"overlay\",\"size\":10,\"solidity\":0.2},\"type\":\"scatter\"}],\"parcoords\":[{\"type\":\"parcoords\",\"line\":{\"colorbar\":{\"outlinewidth\":0,\"ticks\":\"\"}}}],\"scatterpolargl\":[{\"type\":\"scatterpolargl\",\"marker\":{\"colorbar\":{\"outlinewidth\":0,\"ticks\":\"\"}}}],\"bar\":[{\"error_x\":{\"color\":\"#2a3f5f\"},\"error_y\":{\"color\":\"#2a3f5f\"},\"marker\":{\"line\":{\"color\":\"#E5ECF6\",\"width\":0.5},\"pattern\":{\"fillmode\":\"overlay\",\"size\":10,\"solidity\":0.2}},\"type\":\"bar\"}],\"scattergeo\":[{\"type\":\"scattergeo\",\"marker\":{\"colorbar\":{\"outlinewidth\":0,\"ticks\":\"\"}}}],\"scatterpolar\":[{\"type\":\"scatterpolar\",\"marker\":{\"colorbar\":{\"outlinewidth\":0,\"ticks\":\"\"}}}],\"histogram\":[{\"marker\":{\"pattern\":{\"fillmode\":\"overlay\",\"size\":10,\"solidity\":0.2}},\"type\":\"histogram\"}],\"scattergl\":[{\"type\":\"scattergl\",\"marker\":{\"colorbar\":{\"outlinewidth\":0,\"ticks\":\"\"}}}],\"scatter3d\":[{\"type\":\"scatter3d\",\"line\":{\"colorbar\":{\"outlinewidth\":0,\"ticks\":\"\"}},\"marker\":{\"colorbar\":{\"outlinewidth\":0,\"ticks\":\"\"}}}],\"scattermapbox\":[{\"type\":\"scattermapbox\",\"marker\":{\"colorbar\":{\"outlinewidth\":0,\"ticks\":\"\"}}}],\"scatterternary\":[{\"type\":\"scatterternary\",\"marker\":{\"colorbar\":{\"outlinewidth\":0,\"ticks\":\"\"}}}],\"scattercarpet\":[{\"type\":\"scattercarpet\",\"marker\":{\"colorbar\":{\"outlinewidth\":0,\"ticks\":\"\"}}}],\"carpet\":[{\"aaxis\":{\"endlinecolor\":\"#2a3f5f\",\"gridcolor\":\"white\",\"linecolor\":\"white\",\"minorgridcolor\":\"white\",\"startlinecolor\":\"#2a3f5f\"},\"baxis\":{\"endlinecolor\":\"#2a3f5f\",\"gridcolor\":\"white\",\"linecolor\":\"white\",\"minorgridcolor\":\"white\",\"startlinecolor\":\"#2a3f5f\"},\"type\":\"carpet\"}],\"table\":[{\"cells\":{\"fill\":{\"color\":\"#EBF0F8\"},\"line\":{\"color\":\"white\"}},\"header\":{\"fill\":{\"color\":\"#C8D4E3\"},\"line\":{\"color\":\"white\"}},\"type\":\"table\"}],\"barpolar\":[{\"marker\":{\"line\":{\"color\":\"#E5ECF6\",\"width\":0.5},\"pattern\":{\"fillmode\":\"overlay\",\"size\":10,\"solidity\":0.2}},\"type\":\"barpolar\"}],\"pie\":[{\"automargin\":true,\"type\":\"pie\"}]},\"layout\":{\"autotypenumbers\":\"strict\",\"colorway\":[\"#636efa\",\"#EF553B\",\"#00cc96\",\"#ab63fa\",\"#FFA15A\",\"#19d3f3\",\"#FF6692\",\"#B6E880\",\"#FF97FF\",\"#FECB52\"],\"font\":{\"color\":\"#2a3f5f\"},\"hovermode\":\"closest\",\"hoverlabel\":{\"align\":\"left\"},\"paper_bgcolor\":\"white\",\"plot_bgcolor\":\"#E5ECF6\",\"polar\":{\"bgcolor\":\"#E5ECF6\",\"angularaxis\":{\"gridcolor\":\"white\",\"linecolor\":\"white\",\"ticks\":\"\"},\"radialaxis\":{\"gridcolor\":\"white\",\"linecolor\":\"white\",\"ticks\":\"\"}},\"ternary\":{\"bgcolor\":\"#E5ECF6\",\"aaxis\":{\"gridcolor\":\"white\",\"linecolor\":\"white\",\"ticks\":\"\"},\"baxis\":{\"gridcolor\":\"white\",\"linecolor\":\"white\",\"ticks\":\"\"},\"caxis\":{\"gridcolor\":\"white\",\"linecolor\":\"white\",\"ticks\":\"\"}},\"coloraxis\":{\"colorbar\":{\"outlinewidth\":0,\"ticks\":\"\"}},\"colorscale\":{\"sequential\":[[0.0,\"#0d0887\"],[0.1111111111111111,\"#46039f\"],[0.2222222222222222,\"#7201a8\"],[0.3333333333333333,\"#9c179e\"],[0.4444444444444444,\"#bd3786\"],[0.5555555555555556,\"#d8576b\"],[0.6666666666666666,\"#ed7953\"],[0.7777777777777778,\"#fb9f3a\"],[0.8888888888888888,\"#fdca26\"],[1.0,\"#f0f921\"]],\"sequentialminus\":[[0.0,\"#0d0887\"],[0.1111111111111111,\"#46039f\"],[0.2222222222222222,\"#7201a8\"],[0.3333333333333333,\"#9c179e\"],[0.4444444444444444,\"#bd3786\"],[0.5555555555555556,\"#d8576b\"],[0.6666666666666666,\"#ed7953\"],[0.7777777777777778,\"#fb9f3a\"],[0.8888888888888888,\"#fdca26\"],[1.0,\"#f0f921\"]],\"diverging\":[[0,\"#8e0152\"],[0.1,\"#c51b7d\"],[0.2,\"#de77ae\"],[0.3,\"#f1b6da\"],[0.4,\"#fde0ef\"],[0.5,\"#f7f7f7\"],[0.6,\"#e6f5d0\"],[0.7,\"#b8e186\"],[0.8,\"#7fbc41\"],[0.9,\"#4d9221\"],[1,\"#276419\"]]},\"xaxis\":{\"gridcolor\":\"white\",\"linecolor\":\"white\",\"ticks\":\"\",\"title\":{\"standoff\":15},\"zerolinecolor\":\"white\",\"automargin\":true,\"zerolinewidth\":2},\"yaxis\":{\"gridcolor\":\"white\",\"linecolor\":\"white\",\"ticks\":\"\",\"title\":{\"standoff\":15},\"zerolinecolor\":\"white\",\"automargin\":true,\"zerolinewidth\":2},\"scene\":{\"xaxis\":{\"backgroundcolor\":\"#E5ECF6\",\"gridcolor\":\"white\",\"linecolor\":\"white\",\"showbackground\":true,\"ticks\":\"\",\"zerolinecolor\":\"white\",\"gridwidth\":2},\"yaxis\":{\"backgroundcolor\":\"#E5ECF6\",\"gridcolor\":\"white\",\"linecolor\":\"white\",\"showbackground\":true,\"ticks\":\"\",\"zerolinecolor\":\"white\",\"gridwidth\":2},\"zaxis\":{\"backgroundcolor\":\"#E5ECF6\",\"gridcolor\":\"white\",\"linecolor\":\"white\",\"showbackground\":true,\"ticks\":\"\",\"zerolinecolor\":\"white\",\"gridwidth\":2}},\"shapedefaults\":{\"line\":{\"color\":\"#2a3f5f\"}},\"annotationdefaults\":{\"arrowcolor\":\"#2a3f5f\",\"arrowhead\":0,\"arrowwidth\":1},\"geo\":{\"bgcolor\":\"white\",\"landcolor\":\"#E5ECF6\",\"subunitcolor\":\"white\",\"showland\":true,\"showlakes\":true,\"lakecolor\":\"white\"},\"title\":{\"x\":0.05},\"mapbox\":{\"style\":\"light\"}}},\"xaxis\":{\"anchor\":\"y\",\"domain\":[0.0,1.0],\"title\":{\"text\":\"Epoch\"}},\"yaxis\":{\"anchor\":\"x\",\"domain\":[0.0,1.0],\"title\":{\"text\":\"Metrics\"}},\"legend\":{\"title\":{\"text\":\"variable\"},\"tracegroupgap\":0},\"title\":{\"text\":\"Model Training\"}},                        {\"responsive\": true}                    ).then(function(){\n",
       "                            \n",
       "var gd = document.getElementById('237319bc-f6d4-4ffe-96a2-b44c3161a127');\n",
       "var x = new MutationObserver(function (mutations, observer) {{\n",
       "        var display = window.getComputedStyle(gd).display;\n",
       "        if (!display || display === 'none') {{\n",
       "            console.log([gd, 'removed!']);\n",
       "            Plotly.purge(gd);\n",
       "            observer.disconnect();\n",
       "        }}\n",
       "}});\n",
       "\n",
       "// Listen for the removal of the full notebook cells\n",
       "var notebookContainer = gd.closest('#notebook-container');\n",
       "if (notebookContainer) {{\n",
       "    x.observe(notebookContainer, {childList: true});\n",
       "}}\n",
       "\n",
       "// Listen for the clearing of the current output cell\n",
       "var outputEl = gd.closest('.output');\n",
       "if (outputEl) {{\n",
       "    x.observe(outputEl, {childList: true});\n",
       "}}\n",
       "\n",
       "                        })                };                });            </script>        </div>"
      ]
     },
     "metadata": {},
     "output_type": "display_data"
    }
   ],
   "source": [
    "px.line(hist, title='Model Training', hover_name='variable', labels={'value': 'Metrics', 'index': 'Epoch'})"
   ]
  },
  {
   "cell_type": "code",
   "execution_count": 343,
   "id": "cdde014b",
   "metadata": {},
   "outputs": [],
   "source": [
    "model.save('finalModel.h5', save_format='h5')"
   ]
  },
  {
   "cell_type": "code",
   "execution_count": 337,
   "id": "46774fdc",
   "metadata": {},
   "outputs": [],
   "source": [
    "ppc.copy(str(arts))"
   ]
  },
  {
   "cell_type": "code",
   "execution_count": 338,
   "id": "d7e85252",
   "metadata": {},
   "outputs": [],
   "source": [
    "import tensorflow as tf"
   ]
  },
  {
   "cell_type": "code",
   "execution_count": 340,
   "id": "d44ae21f",
   "metadata": {},
   "outputs": [],
   "source": [
    "xmodel = kr.models.Sequential()\n",
    "xmodel.add(tf.keras.Input(shape=(1,), dtype=tf.string))\n",
    "xmodel.add(vec)"
   ]
  },
  {
   "cell_type": "code",
   "execution_count": 342,
   "id": "e17d2c33",
   "metadata": {},
   "outputs": [
    {
     "name": "stdout",
     "output_type": "stream",
     "text": [
      "WARNING:tensorflow:Compiled the loaded model, but the compiled metrics have yet to be built. `model.compile_metrics` will be empty until you train or evaluate the model.\n",
      "INFO:tensorflow:Assets written to: vec_model\\assets\n"
     ]
    }
   ],
   "source": [
    "xmodel.save('vec_model', save_format='tf')"
   ]
  }
 ],
 "metadata": {
  "kernelspec": {
   "display_name": "Python 3 (ipykernel)",
   "language": "python",
   "name": "python3"
  },
  "language_info": {
   "codemirror_mode": {
    "name": "ipython",
    "version": 3
   },
   "file_extension": ".py",
   "mimetype": "text/x-python",
   "name": "python",
   "nbconvert_exporter": "python",
   "pygments_lexer": "ipython3",
   "version": "3.10.8"
  },
  "varInspector": {
   "cols": {
    "lenName": 16,
    "lenType": 16,
    "lenVar": 40
   },
   "kernels_config": {
    "python": {
     "delete_cmd_postfix": "",
     "delete_cmd_prefix": "del ",
     "library": "var_list.py",
     "varRefreshCmd": "print(var_dic_list())"
    },
    "r": {
     "delete_cmd_postfix": ") ",
     "delete_cmd_prefix": "rm(",
     "library": "var_list.r",
     "varRefreshCmd": "cat(var_dic_list()) "
    }
   },
   "types_to_exclude": [
    "module",
    "function",
    "builtin_function_or_method",
    "instance",
    "_Feature"
   ],
   "window_display": false
  }
 },
 "nbformat": 4,
 "nbformat_minor": 5
}
