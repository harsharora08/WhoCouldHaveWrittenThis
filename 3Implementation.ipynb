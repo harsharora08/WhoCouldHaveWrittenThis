{
 "cells": [
  {
   "cell_type": "markdown",
   "id": "cfc8169d",
   "metadata": {},
   "source": [
    "# Prerequisites"
   ]
  },
  {
   "cell_type": "code",
   "execution_count": 1,
   "id": "d1c9f345",
   "metadata": {
    "scrolled": true
   },
   "outputs": [
    {
     "ename": "SyntaxError",
     "evalue": "invalid syntax (<string>, line 0)",
     "output_type": "error",
     "traceback": [
      "Traceback \u001b[1;36m(most recent call last)\u001b[0m:\n",
      "  File \u001b[0;32m\"C:\\Users\\harsh\\miniconda3\\lib\\site-packages\\IPython\\core\\interactiveshell.py\"\u001b[0m, line \u001b[0;32m3457\u001b[0m, in \u001b[0;35mrun_code\u001b[0m\n    exec(code_obj, self.user_global_ns, self.user_ns)\n",
      "\u001b[1;36m  File \u001b[1;32m\"C:\\Users\\harsh\\AppData\\Local\\Temp/ipykernel_15136/1126071797.py\"\u001b[1;36m, line \u001b[1;32m1\u001b[1;36m, in \u001b[1;35m<module>\u001b[1;36m\u001b[0m\n\u001b[1;33m    arts = eval(ppc.paste())\u001b[0m\n",
      "\u001b[1;36m  File \u001b[1;32m\"<string>\"\u001b[1;36m, line \u001b[1;32munknown\u001b[0m\n\u001b[1;33m    \u001b[0m\n\u001b[1;37m    ^\u001b[0m\n\u001b[1;31mSyntaxError\u001b[0m\u001b[1;31m:\u001b[0m invalid syntax\n"
     ]
    }
   ],
   "source": [
    "arts = eval(ppc.paste())"
   ]
  },
  {
   "cell_type": "code",
   "execution_count": null,
   "id": "b6e415b8",
   "metadata": {},
   "outputs": [],
   "source": []
  },
  {
   "cell_type": "code",
   "execution_count": 26,
   "id": "82b15a69",
   "metadata": {},
   "outputs": [],
   "source": [
    "ppc.copy('\\n'.join(arts.values()))"
   ]
  },
  {
   "cell_type": "code",
   "execution_count": 3,
   "id": "4beb525c",
   "metadata": {},
   "outputs": [],
   "source": [
    "from tensorflow import keras as kr"
   ]
  },
  {
   "cell_type": "code",
   "execution_count": 4,
   "id": "4fa390b8",
   "metadata": {},
   "outputs": [],
   "source": [
    "modloc = 'finalModel.h5'"
   ]
  },
  {
   "cell_type": "code",
   "execution_count": 5,
   "id": "0e5004f8",
   "metadata": {},
   "outputs": [],
   "source": [
    "vecloc = 'vec_model/'"
   ]
  },
  {
   "cell_type": "code",
   "execution_count": 7,
   "id": "d8ead346",
   "metadata": {},
   "outputs": [
    {
     "name": "stdout",
     "output_type": "stream",
     "text": [
      "WARNING:tensorflow:No training configuration found in save file, so the model was *not* compiled. Compile it manually.\n"
     ]
    }
   ],
   "source": [
    "model = kr.models.load_model(modloc)\n",
    "vec = kr.models.load_model(vecloc).layers[0]"
   ]
  },
  {
   "cell_type": "code",
   "execution_count": 12,
   "id": "518de95a",
   "metadata": {},
   "outputs": [],
   "source": [
    "def tell(inp):\n",
    "    hat = model.predict(np.reshape(vec(inp), (-1, 17)), verbose=0)[0]\n",
    "    print('Model thinks that the prompt you entered matches the most to {} and it is about {}% sure about it.'.format(arts[hat.argmax()],\n",
    "                                                                                                                    round(hat.max()*100, 2)))"
   ]
  },
  {
   "cell_type": "code",
   "execution_count": 17,
   "id": "18e2ac68",
   "metadata": {},
   "outputs": [],
   "source": [
    "def fun():\n",
    "    prom = input('Enter a string to check whose style it matches the most amongst the above listed artists:\\n\\n')\n",
    "    print('\\n\\n')\n",
    "    tell(prom)"
   ]
  },
  {
   "cell_type": "markdown",
   "id": "be78ce4b",
   "metadata": {},
   "source": [
    "# Model Usage\n",
    "### Artist List\n",
    "- Eminem\n",
    "- J. Cole\n",
    "- Nicki Minaj\n",
    "- Lil Pump\n",
    "- Taylor Swift\n",
    "- One Direction\n",
    "- Bruno Mars\n",
    "- Freddie Mercury\n",
    "- Billie Eilish\n",
    "- Hozier"
   ]
  },
  {
   "cell_type": "code",
   "execution_count": 23,
   "id": "37af0240",
   "metadata": {},
   "outputs": [
    {
     "name": "stdout",
     "output_type": "stream",
     "text": [
      "Enter a string to check whose style it matches the most amongst the above listed artists:\n",
      "\n",
      "I am the Greatest of All Time\n",
      "\n",
      "\n",
      "\n",
      "Model thinks that the prompt you entered matches the most to J. Cole and it is about 97.14% sure about it\n"
     ]
    }
   ],
   "source": [
    "fun()"
   ]
  }
 ],
 "metadata": {
  "kernelspec": {
   "display_name": "Python 3 (ipykernel)",
   "language": "python",
   "name": "python3"
  },
  "language_info": {
   "codemirror_mode": {
    "name": "ipython",
    "version": 3
   },
   "file_extension": ".py",
   "mimetype": "text/x-python",
   "name": "python",
   "nbconvert_exporter": "python",
   "pygments_lexer": "ipython3",
   "version": "3.10.8"
  },
  "varInspector": {
   "cols": {
    "lenName": 16,
    "lenType": 16,
    "lenVar": 40
   },
   "kernels_config": {
    "python": {
     "delete_cmd_postfix": "",
     "delete_cmd_prefix": "del ",
     "library": "var_list.py",
     "varRefreshCmd": "print(var_dic_list())"
    },
    "r": {
     "delete_cmd_postfix": ") ",
     "delete_cmd_prefix": "rm(",
     "library": "var_list.r",
     "varRefreshCmd": "cat(var_dic_list()) "
    }
   },
   "types_to_exclude": [
    "module",
    "function",
    "builtin_function_or_method",
    "instance",
    "_Feature"
   ],
   "window_display": false
  }
 },
 "nbformat": 4,
 "nbformat_minor": 5
}
