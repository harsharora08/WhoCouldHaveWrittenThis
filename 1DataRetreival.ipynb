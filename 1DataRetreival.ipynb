{
 "cells": [
  {
   "cell_type": "code",
   "execution_count": 1,
   "id": "cd6a891a",
   "metadata": {},
   "outputs": [],
   "source": [
    "import genius"
   ]
  },
  {
   "cell_type": "code",
   "execution_count": 2,
   "id": "a4479c08",
   "metadata": {},
   "outputs": [],
   "source": [
    "gen = genius.Genius('TEV98f9GmOx8N_AmI5RucqNvxhTHuB-myzZm8B6WbMK2TZsppQg7-b_ydaOmy6rO')"
   ]
  },
  {
   "cell_type": "code",
   "execution_count": 31,
   "id": "ab30c3b2",
   "metadata": {},
   "outputs": [
    {
     "data": {
      "text/plain": [
       "[Lucky You (3930558),\n",
       " Lucky You (Freestyle) (4104258),\n",
       " You Don’t Know How Lucky You Are (1201552),\n",
       " Lucky You (Freestyle) (4241161),\n",
       " Lucky You (577162),\n",
       " Lucky You (189024),\n",
       " Eminem - Lucky You ft. Joyner Lucas (Traducción al Español) (4123225),\n",
       " Eminem - Lucky You ft. Joyner Lucas (Türkçe Çeviri) (3945720),\n",
       " Lucky You (1136398),\n",
       " How Lucky You Are (2943135),\n",
       " Eminem - Lucky You ft. Joyner Lucas (ترجمه ی فارسی) (4150900),\n",
       " Eminem - Lucky You ft. Joyner Lucas (中文翻译) (3953401),\n",
       " Lucky You (187260),\n",
       " Lucky You (3294025),\n",
       " Lucky You (1372319),\n",
       " Lucky you (2451925),\n",
       " Lucky You (5099860),\n",
       " Lucky (3518989),\n",
       " Eminem & Joyner Lucas - Lucky You (Tradução em Português) (3945057),\n",
       " Lucky You (1034270)]"
      ]
     },
     "execution_count": 31,
     "metadata": {},
     "output_type": "execute_result"
    }
   ],
   "source": [
    "list(gen.search('Lucky You'))"
   ]
  },
  {
   "cell_type": "code",
   "execution_count": 36,
   "id": "53845d29",
   "metadata": {},
   "outputs": [],
   "source": [
    "artists = []"
   ]
  },
  {
   "cell_type": "code",
   "execution_count": 86,
   "id": "d307279c",
   "metadata": {},
   "outputs": [],
   "source": [
    "art = 'Drake'\n",
    "\n",
    "artists.append(gen.search_artist(art))\n"
   ]
  },
  {
   "cell_type": "code",
   "execution_count": 76,
   "id": "d5b02182",
   "metadata": {},
   "outputs": [],
   "source": [
    "artists.remove(None)"
   ]
  },
  {
   "cell_type": "code",
   "execution_count": 91,
   "id": "4bcf5b63",
   "metadata": {},
   "outputs": [
    {
     "data": {
      "text/plain": [
       "Taylor Swift (1177)"
      ]
     },
     "execution_count": 91,
     "metadata": {},
     "output_type": "execute_result"
    }
   ],
   "source": [
    "gen.get_artist(artists[0].id).songs_by_popularity"
   ]
  },
  {
   "cell_type": "code",
   "execution_count": 16,
   "id": "7b78c79a",
   "metadata": {},
   "outputs": [],
   "source": [
    "artists = [gen.get_artist(i) for i in sr.apply(eval)]"
   ]
  },
  {
   "cell_type": "code",
   "execution_count": 95,
   "id": "408e808e",
   "metadata": {},
   "outputs": [
    {
     "data": {
      "text/plain": [
       "[Taylor Swift (1177),\n",
       " Eminem (45),\n",
       " Nicki Minaj (92),\n",
       " J. Cole (69),\n",
       " Snoop Dogg (46),\n",
       " Lil Pump (654932),\n",
       " Shawn Mendes (195029),\n",
       " One Direction (19657),\n",
       " Hozier (73910),\n",
       " Ed Sheeran (12418),\n",
       " Beyoncé (498),\n",
       " Bruno Mars (500),\n",
       " Billie Eilish (615550),\n",
       " Freddie Mercury (60493),\n",
       " Rihanna (89),\n",
       " Drake (130)]"
      ]
     },
     "execution_count": 95,
     "metadata": {},
     "output_type": "execute_result"
    }
   ],
   "source": [
    "artists"
   ]
  },
  {
   "cell_type": "code",
   "execution_count": 19,
   "id": "8fabb33a",
   "metadata": {},
   "outputs": [
    {
     "data": {
      "text/plain": [
       "16"
      ]
     },
     "execution_count": 19,
     "metadata": {},
     "output_type": "execute_result"
    }
   ],
   "source": [
    "len(artists)"
   ]
  },
  {
   "cell_type": "code",
   "execution_count": 39,
   "id": "14744747",
   "metadata": {},
   "outputs": [],
   "source": [
    "listofartists = []\n",
    "listoftitles = []\n",
    "listoflyrics = []"
   ]
  },
  {
   "cell_type": "code",
   "execution_count": 40,
   "id": "ce70d675",
   "metadata": {},
   "outputs": [
    {
     "name": "stdout",
     "output_type": "stream",
     "text": [
      "Collecting data for Taylor Swift\n",
      "Collecting data for Eminem\n",
      "Collecting data for Nicki Minaj\n",
      "Collecting data for J. Cole\n",
      "Collecting data for Snoop Dogg\n",
      "Collecting data for Lil Pump\n",
      "Collecting data for Shawn Mendes\n",
      "Collecting data for One Direction\n",
      "Collecting data for Hozier\n",
      "Collecting data for Ed Sheeran\n",
      "Collecting data for Beyoncé\n",
      "Collecting data for Bruno Mars\n",
      "Collecting data for Billie Eilish\n",
      "Collecting data for Freddie Mercury\n",
      "Collecting data for Rihanna\n",
      "Collecting data for Drake\n",
      "Progress: 101%\r"
     ]
    }
   ],
   "source": [
    "for artist in artists:\n",
    "    print('Collecting data for {}'.format(artist.name))\n",
    "    for song in gen.get_artist(artist.id).songs_by_popularity:\n",
    "        if(listofartists.count(artist.name) > 100):\n",
    "            break\n",
    "        if song.artist.id == artist.id:\n",
    "            listofartists.append(song.artist.name)\n",
    "            listoftitles.append(song.title)\n",
    "            listoflyrics.append(song.lyrics)\n",
    "        print('Progress: {}%'.format(listofartists.count(artist.name)), end='\\r')"
   ]
  },
  {
   "cell_type": "code",
   "execution_count": 122,
   "id": "8093ceab",
   "metadata": {},
   "outputs": [],
   "source": [
    "import pandas as pd"
   ]
  },
  {
   "cell_type": "code",
   "execution_count": 126,
   "id": "22e4a860",
   "metadata": {},
   "outputs": [
    {
     "data": {
      "text/plain": [
       "1028"
      ]
     },
     "execution_count": 126,
     "metadata": {},
     "output_type": "execute_result"
    }
   ],
   "source": [
    "len(listoflyrics)"
   ]
  },
  {
   "cell_type": "code",
   "execution_count": 41,
   "id": "bdb535d5",
   "metadata": {},
   "outputs": [],
   "source": [
    "df = pd.DataFrame({'Artist': listofartists,\n",
    "                   'Title': listoftitles,\n",
    "                   'Lyrics': listoflyrics})"
   ]
  },
  {
   "cell_type": "code",
   "execution_count": 42,
   "id": "9201c10f",
   "metadata": {
    "scrolled": true
   },
   "outputs": [
    {
     "data": {
      "text/html": [
       "<div><div id=ad3d7062-f024-4e13-bb73-9cdf7a927b9a style=\"display:none; background-color:#9D6CFF; color:white; width:200px; height:30px; padding-left:5px; border-radius:4px; flex-direction:row; justify-content:space-around; align-items:center;\" onmouseover=\"this.style.backgroundColor='#BA9BF8'\" onmouseout=\"this.style.backgroundColor='#9D6CFF'\" onclick=\"window.commands?.execute('create-mitosheet-from-dataframe-output');\">See Full Dataframe in Mito</div> <script> if (window.commands?.hasCommand('create-mitosheet-from-dataframe-output')) document.getElementById('ad3d7062-f024-4e13-bb73-9cdf7a927b9a').style.display = 'flex' </script> <table border=\"1\" class=\"dataframe\">\n",
       "  <thead>\n",
       "    <tr style=\"text-align: right;\">\n",
       "      <th></th>\n",
       "      <th>Artist</th>\n",
       "      <th>Title</th>\n",
       "      <th>Lyrics</th>\n",
       "    </tr>\n",
       "  </thead>\n",
       "  <tbody>\n",
       "    <tr>\n",
       "      <th>0</th>\n",
       "      <td>Taylor Swift</td>\n",
       "      <td>All Too Well (10 Minute Version) (Taylor’s Version) [From the Vault]</td>\n",
       "      <td>[I walked through the door with you, the air was cold, But somethin' 'bout it felt like home somehow, And I left my scarf there at your sister's house, And you've still got it in your drawer, even now, , Oh, your sweet disposition and my wide-eyed gaze, We're singin' in the car, getting lost upstate, Autumn leaves fallin' down like pieces into place, And I can picture it after all these days, And I know it's long gone and, That magic's not here no more, And I might be okay, but I'm not fine at all, Oh, oh, oh, , 'Cause there we are again on that little town street, You almost ran the red 'cause you were lookin' over at me, Wind in my hair, I was there, I remember it all too well, , Photo album on the counter, your cheeks were turnin' red, You used to be a little kid with glasses in a twin-sized bed, And your mother's tellin' stories 'bout you on the tee-ball team, You taught me 'bout your past, thinkin' your future was me, And you were tossing me the car keys, \"Fuck the patriarchy\", Keychain on the ground, we were always skippin' town, And I was thinkin' on the drive down, \"Any time now, He's gonna say it's love,\" you never called it what it was, 'Til we were dead and gone and buried, Check the pulse and come back swearin' it's the same, After three months in the grave, And then you wondered where it went to as I reached for you, But all I felt was shame and you held my lifeless frame, And I know it's long gone and, There was nothing else I could do, And I forget about you long enough, To forget why I needed to, , 'Cause there we are again in the middle of the night, We're dancin' 'round the kitchen in the refrigerator light, Down the stairs, I was there, I remember it all too well, And there we are again when nobody had to know, You kept me like a secret, but I kept you like an oath, Sacred prayer and we'd swear, To remember it all too well, yeah, , Well, maybe we got lost in translation, maybe I asked for too much, But maybe this thing was a masterpiece 'til you tore it all up, Runnin' scared, I was there, I remember it all too well, And you call me up again just to break me like a promise, So casually cruel in the name of bein' honest, I'm a crumpled-up piece of paper lyin' here, 'Cause I remember it all, all, all, They say all's well that ends well, but I'm in a new hell, Every time you double-cross my mind, You said if we had been closer in age, maybe it would've been fine, And that made me want to die, The idea you had of me, who was she?, A never-needy, ever-lovely jewel whose shine reflects on you, Not weepin' in a party bathroom, Some actress askin' me what happened, you, That's what happened, you, You who charmed my dad with self-effacing jokes, Sippin' coffee like you're on a late-night show, But then he watched me watch the front door all night, willin' you to come, And he said, \"It's supposed to be fun turning twenty-one\", , Time won't fly, it's like I'm paralyzed by it, I'd like to be my old self again, but I'm still tryin' to find it, After plaid shirt days and nights when you made me your own, Now you mail back my things and I walk home alone, But you keep my old scarf from that very first week, 'Cause it reminds you of innocence and it smells like me, You can't get rid of it, 'Cause you remember it all too well, yeah, , 'Cause there we are again when I loved you so, Back before you lost the one real thing you've ever known, It was rare, I was there, I remember it all too well, Wind in my hair, you were there, You remember it all, Down the stairs, you were there, You remember it all, It was rare, I was there, I remember it all too well, , And I was never good at tellin' jokes, but the punch line goes, \"I'll get older, but your lovers stay my age\", From when your Brooklyn broke my skin and bones, I'm a soldier who's returning half her weight, And did the twin flame bruise paint you blue?, Just between us, did the love affair maim you too?, 'Cause in this city's barren cold, I still remember the first fall of snow, And how it glistened as it fell, I remember it all too well, , Just between us, did the love affair maim you all too well?, ...]</td>\n",
       "    </tr>\n",
       "    <tr>\n",
       "      <th>1</th>\n",
       "      <td>Taylor Swift</td>\n",
       "      <td>​cardigan</td>\n",
       "      <td>[Vintage tee, brand new phone, High heels on cobblestones, When you are young, they assume you know nothing, Sequin smile, black lipstick, Sensual politics, When you are young, they assume you know nothing, , But I knew you, Dancin' in your Levi's, Drunk under a streetlight, I, I knew you, Hand under my sweatshirt, Baby, kiss it better, I, And when I felt like I was an old cardigan, Under someone's bed, You put me on and said I was your favorite, , A friend to all is a friend to none, Chase two girls, lose the one, When you are young, they assume you know nothing, , But I knew you, Playing hide-and-seek and, Giving me your weekends, I, I knew you, Your heartbeat on the High Line, Once in twenty lifetimes, I, , And when I felt like I was an old cardigan, Under someone's bed, You put me on and said I was your favorite, , To kiss in cars and downtown bars, Was all we needed, You drew stars around my scars, But now I'm bleedin', 'Cause I knew you, Steppin' on the last train, Marked me like a bloodstain, I, I knew you, Tried to change the ending, Peter losing Wendy, I, I knew you, Leavin' like a father, Running like water, I, And when you are young, they assume you know nothing, , But I knew you'd linger like a tattoo kiss, I knew you'd haunt all of my what-ifs, The smell of smoke would hang around this long, 'Cause I knew everything when I was young, I knew I'd curse you for the longest time, Chasin' shadows in the grocery line, I knew you'd miss me once the thrill expired, And you'd be standin' in my front porch light, And I knew you'd come back to me, You'd come back to me, And you'd come back to me, And you'd come back, And when I felt like I was an old cardigan, Under someone's bed, You put me on and said I was your favorite]</td>\n",
       "    </tr>\n",
       "    <tr>\n",
       "      <th>2</th>\n",
       "      <td>Taylor Swift</td>\n",
       "      <td>All Too Well (10 Minute Version) (Taylor’s Version) [Live Acoustic]</td>\n",
       "      <td>[I walked through the door with you, the air was cold, But something 'bout it felt like home somehow, And I left my scarf there at your sister's house, And you've still got it in your drawer, even now, , Oh, your sweet disposition and my wide-eyed gaze, We're singing in the car, getting lost upstate, Autumn leaves falling down like pieces into place, And I can picture it after all these days, , And I know it's long gone and, That magic's not here no more, And I might be okay, but I'm not fine at all, Oh, oh, oh, , 'Cause there we are again on that little town street, You almost ran the red 'cause you were lookin' over at me, Wind in my hair, I was there, I remember it all too well, , Photo album on the counter, your cheeks were turning red, You used to be a little kid with glasses in a twin-sized bed, And your mother's telling stories 'bout you on the tee-ball team, You told me 'bout your past, thinking your future was me, And you were tossing me the car keys, \"Fuck the patriarchy\", Key chain on the ground, we were always skipping town, And I was thinking on the drive down, any time now, He's gonna say it's love, you never called it what it was, 'Til we were dead and gone and buried, Check the pulse and come back swearing it's the same, After three months in the grave, And then you wondered where it went to as I reached for you, But all I felt was shame and you held my lifeless frame, And I know it's long gone and, There was nothing else I could do, And I forget about you long enough, To forget why I needed to, , 'Cause there we are again in the middle of the night, We're dancing 'round the kitchen in the refrigerator light, Down the stairs, I was there, I remember it all too well, And there we are again when nobody had to know, You kept me like a secret, but I kept you like an oath, Sacred prayer and we'd swear, To remember it all too well, yeah, , Well, maybe we got lost in translation, Maybe I asked for too much, But maybe this thing was a masterpiece, 'Til you tore it all up, Running scared, I was there, I remember it all too well, And you call me up again just to break me like a promise, So casually cruel in the name of being honest, I'm a crumpled up piece of paper lying here, 'Cause I remember it all, all, all, They say all's well that ends well, but I'm in a new Hell, Every time you double-cross my mind, You said if we had been closer in age maybe it would have been fine, And that made me want to die, The idea you had of me, who was she?, A never-needy, ever-lovely jewel whose shine reflects on you, Not weeping in a party bathroom, Some actress asking me what happened, you, That's what happened, you, You who charmed my dad with self-effacing jokes, Sipping coffee like you're on a late-night show, But then he watched me watch the front door all night, willing you to come, And he said, \"It's supposed to be fun turning twenty-one\", , Time won't fly, it's like I'm paralyzed by it, I'd like to be my old self again, but I'm still trying to find it, After plaid shirt days and nights when you made me your own, Now you mail back my things and I walk home alone, But you keep my old scarf from that very first week, 'Cause it reminds you of innocence and it smells like me, You can't get rid of it, 'Cause you remember it all too well, yeah, , 'Cause there we are again when I loved you so, Back before you lost the one real thing you've ever known, It was rare, I was there, I remember it all too well, Wind in my hair, you were there, You remember it all, Down the stairs, you were there, You remember it all, It was rare, I was there, I remember it all too well, And I was never good at telling jokes, but the punch line goes, \"I'll get older, but your lovers stay my age\", From when your Brooklyn broke my skin and bones, I'm a soldier who's returning half her weight, And did the twin flame bruise paint you blue?, Just between us, did the love affair maim you, too?, 'Cause in this city's barren cold, I still remember the first fall of snow, And how it glistened as it fell, I remember it all too well, ...]</td>\n",
       "    </tr>\n",
       "    <tr>\n",
       "      <th>3</th>\n",
       "      <td>Taylor Swift</td>\n",
       "      <td>​exile</td>\n",
       "      <td>[I can see you standing, honey, With his arms around your body, Laughin', but the joke's not funny at all, And it took you five whole minutes, To pack us up and leave me with it, Holdin' all this love out here in the hall, , I think I've seen this film before, And I didn't like the ending, You're not my homeland anymore, So what am I defending now?, You were my town, now I'm in exile, seein' you out, I think I've seen this film before, Ooh, ooh, ooh, , I can see you starin', honey, Like he's just your understudy, Like you'd get your knuckles bloody for me, Second, third, and hundredth chances, Balancin' on breaking branches, Those eyes add insult to injury, , I think I've seen this film before, And I didn't like the ending, I'm not your problem anymore, So who am I offending now?, You were my crown, now I'm in exile, seein' you out, I think I've seen this film before, So I'm leaving out the side door, , So step right out, there is no amount, Of crying I can do for you, All this time, We always walked a very thin line, You didn't even hear me out (You didn't even hear me out), You never gave a warning sign (I gave so many signs), All this time, I never learned to read your mind (Never learned to read my mind), I couldn't turn things around (You never turned things around), 'Cause you never gave a warning sign (I gave so many signs), So many signs, so many signs, You didn't even see the signs, I think I've seen this film before, And I didn't like the ending, You're not my homeland anymore, So what am I defending now?, You were my town, now I'm in exile, seein' you out, I think I've seen this film before, So I'm leavin' out the side door, , So step right out, there is no amount, Of crying I can do for you, All this time, We always walked a very thin line, You didn't even hear me out (Didn't even hear me out), You never gave a warning sign (I gave so many signs), All this time, I never learned to read your mind (Never learned to read my mind), I couldn't turn things around (You never turned things around), 'Cause you never gave a warning sign (I gave so many signs), You never gave a warning sign (All this time), (So many times) I never learned to read your mind, (So many signs) I couldn't turn things around (I couldn't turn things around), 'Cause you never gave a warning sign (You never gave a warning sign), You never gave a warning sign, Ah, ah]</td>\n",
       "    </tr>\n",
       "    <tr>\n",
       "      <th>4</th>\n",
       "      <td>Taylor Swift</td>\n",
       "      <td>Lover</td>\n",
       "      <td>[We could leave the Christmas lights up 'til January, And this is our place, we make the rules, And there's a dazzling haze, a mysterious way about you, dear, Have I known you twenty seconds or twenty years?, , Can I go where you go?, Can we always be this close?, Forever and ever, ah, Take me out, and take me home, You're my, my, my, my lover, We could let our friends crash in the living room, This is our place, we make the call, And I'm highly suspicious that everyone who sees you wants you, I've loved you three summers now, honey, but I want 'em all, , Can I go where you go?, Can we always be this close?, Forever and ever, ah, Take me out, and take me home (Forever and ever), You're my, my, my, my lover, , Ladies and gentlemen, will you please stand?, With every guitar string scar on my hand, I take this magnetic force of a man to be my lover, My heart's been borrowed and yours has been blue, All's well that ends well to end up with you, Swear to be overdramatic and true to my lover, And you'll save all your dirtiest jokes for me, And at every table, I'll save you a seat, lover, , Can I go where you go?, Can we always be this close?, Forever and ever, ah, Take me out, and take me home (Forever and ever), You're my, my, my, my, Oh, you're my, my, my, my, Darling, you're my, my, my, my lover]</td>\n",
       "    </tr>\n",
       "  </tbody>\n",
       "</table></div>"
      ],
      "text/plain": [
       "         Artist                                              Title  \\\n",
       "0  Taylor Swift  All Too Well (10 Minute Version) (Taylor’s Ver...   \n",
       "1  Taylor Swift                                          ​cardigan   \n",
       "2  Taylor Swift  All Too Well (10 Minute Version) (Taylor’s Ver...   \n",
       "3  Taylor Swift                                             ​exile   \n",
       "4  Taylor Swift                                              Lover   \n",
       "\n",
       "                                              Lyrics  \n",
       "0  [I walked through the door with you, the air w...  \n",
       "1  [Vintage tee, brand new phone, High heels on c...  \n",
       "2  [I walked through the door with you, the air w...  \n",
       "3  [I can see you standing, honey, With his arms ...  \n",
       "4  [We could leave the Christmas lights up 'til J...  "
      ]
     },
     "execution_count": 42,
     "metadata": {},
     "output_type": "execute_result"
    }
   ],
   "source": [
    "df.head()"
   ]
  },
  {
   "cell_type": "code",
   "execution_count": 44,
   "id": "988bc6a1",
   "metadata": {},
   "outputs": [
    {
     "data": {
      "text/plain": [
       "Billie Eilish      151\n",
       "Shawn Mendes       109\n",
       "One Direction      101\n",
       "Freddie Mercury     99\n",
       "Bruno Mars          87\n",
       "Lil Pump            86\n",
       "Taylor Swift        83\n",
       "Ed Sheeran          80\n",
       "Rihanna             75\n",
       "Hozier              72\n",
       "Drake               70\n",
       "Nicki Minaj         65\n",
       "Snoop Dogg          64\n",
       "Beyoncé             64\n",
       "J. Cole             58\n",
       "Eminem              46\n",
       "Name: Artist, dtype: int64"
      ]
     },
     "execution_count": 44,
     "metadata": {},
     "output_type": "execute_result"
    }
   ],
   "source": [
    "df['Artist'].value_counts()"
   ]
  },
  {
   "cell_type": "code",
   "execution_count": 173,
   "id": "907fa18a",
   "metadata": {},
   "outputs": [],
   "source": [
    "df2 = df[df['Artist'].isin(df['Artist'].value_counts()[df['Artist'].value_counts()>50].index)]"
   ]
  },
  {
   "cell_type": "code",
   "execution_count": 174,
   "id": "7a6a7d8c",
   "metadata": {},
   "outputs": [],
   "source": [
    "df2.to_csv('data/onlyTops.csv', index=None)"
   ]
  },
  {
   "cell_type": "code",
   "execution_count": 175,
   "id": "5471d8f4",
   "metadata": {},
   "outputs": [
    {
     "name": "stdout",
     "output_type": "stream",
     "text": [
      " Volume in drive D is Volume\n",
      " Volume Serial Number is DC84-4BDF\n",
      "\n",
      " Directory of D:\\python\\own\\lyrics\\data\n",
      "\n",
      "Fri, 16 Dec  01:09 PM    <DIR>          .\n",
      "Fri, 16 Dec  01:08 PM    <DIR>          ..\n",
      "Fri, 16 Dec  12:40 PM         2,801,698 firstHit.csv\n",
      "Fri, 16 Dec  01:09 PM         2,505,623 onlyTops.csv\n",
      "Fri, 16 Dec  01:08 PM         2,598,356 secondHit.csv\n",
      "               3 File(s)      7,905,677 bytes\n",
      "               2 Dir(s)  96,283,873,280 bytes free\n"
     ]
    }
   ],
   "source": [
    "!dir data"
   ]
  },
  {
   "cell_type": "code",
   "execution_count": 176,
   "id": "6cb13e7a",
   "metadata": {},
   "outputs": [
    {
     "data": {
      "text/plain": [
       "10"
      ]
     },
     "execution_count": 176,
     "metadata": {},
     "output_type": "execute_result"
    }
   ],
   "source": [
    "df2['Artist'].nunique()"
   ]
  },
  {
   "cell_type": "code",
   "execution_count": 191,
   "id": "4974d34a",
   "metadata": {},
   "outputs": [],
   "source": [
    "df2 = df2.drop(df2[(df2['Lyrics'].apply(len)<10)].index)"
   ]
  },
  {
   "cell_type": "code",
   "execution_count": 193,
   "id": "b465cec3",
   "metadata": {},
   "outputs": [],
   "source": [
    "import numpy as np"
   ]
  },
  {
   "cell_type": "code",
   "execution_count": 241,
   "id": "0511238d",
   "metadata": {},
   "outputs": [],
   "source": [
    "df3 = df2.explode('Lyrics').replace('', np.nan).dropna().drop_duplicates()"
   ]
  },
  {
   "cell_type": "code",
   "execution_count": 242,
   "id": "c1c32572",
   "metadata": {},
   "outputs": [],
   "source": [
    "df3 = df3.replace(df3['Lyrics'].value_counts().nlargest(9).index, np.nan).dropna()"
   ]
  },
  {
   "cell_type": "code",
   "execution_count": 251,
   "id": "36c3af73",
   "metadata": {},
   "outputs": [
    {
     "data": {
      "text/plain": [
       "Artist       0\n",
       "Title        0\n",
       "Lyrics    1546\n",
       "dtype: int64"
      ]
     },
     "execution_count": 251,
     "metadata": {},
     "output_type": "execute_result"
    }
   ],
   "source": [
    "df3.isna().sum()"
   ]
  },
  {
   "cell_type": "code",
   "execution_count": 252,
   "id": "631ea6d6",
   "metadata": {},
   "outputs": [],
   "source": [
    "df3.dropna(inplace=True)"
   ]
  },
  {
   "cell_type": "code",
   "execution_count": 253,
   "id": "e4176ea9",
   "metadata": {},
   "outputs": [
    {
     "data": {
      "text/plain": [
       "Artist    0\n",
       "Title     0\n",
       "Lyrics    0\n",
       "dtype: int64"
      ]
     },
     "execution_count": 253,
     "metadata": {},
     "output_type": "execute_result"
    }
   ],
   "source": [
    "df3.isna().sum()"
   ]
  },
  {
   "cell_type": "code",
   "execution_count": 255,
   "id": "048604e9",
   "metadata": {},
   "outputs": [
    {
     "data": {
      "text/plain": [
       "Eminem             9289\n",
       "J. Cole            6432\n",
       "Nicki Minaj        5022\n",
       "Lil Pump           3863\n",
       "Taylor Swift       3802\n",
       "One Direction      3212\n",
       "Bruno Mars         2975\n",
       "Freddie Mercury    2203\n",
       "Billie Eilish      2173\n",
       "Hozier             1972\n",
       "Name: Artist, dtype: int64"
      ]
     },
     "execution_count": 255,
     "metadata": {},
     "output_type": "execute_result"
    }
   ],
   "source": [
    "df3['Artist'].value_counts()"
   ]
  },
  {
   "cell_type": "code",
   "execution_count": 254,
   "id": "1d7930f4",
   "metadata": {},
   "outputs": [
    {
     "data": {
      "text/plain": [
       "Index(['Bruno Mars', 'Freddie Mercury', 'Billie Eilish', 'Hozier'], dtype='object')"
      ]
     },
     "execution_count": 254,
     "metadata": {},
     "output_type": "execute_result"
    }
   ],
   "source": [
    "df3['Artist'].value_counts()[df3['Artist'].value_counts()<3000].index"
   ]
  },
  {
   "cell_type": "code",
   "execution_count": 261,
   "id": "6f55ff30",
   "metadata": {},
   "outputs": [],
   "source": [
    "data = pd.concat([df3[df3['Artist'] == art].sample(3000) for art in df3['Artist'].value_counts()[df3['Artist'].value_counts()>3000].index])"
   ]
  },
  {
   "cell_type": "code",
   "execution_count": 262,
   "id": "919dccef",
   "metadata": {},
   "outputs": [],
   "source": [
    "data2 = pd.concat([df3[df3['Artist'] == art].sample(3000, replace=True) for art in df3['Artist'].value_counts()[df3['Artist'].value_counts()<3000].index])"
   ]
  },
  {
   "cell_type": "code",
   "execution_count": 263,
   "id": "2352540a",
   "metadata": {},
   "outputs": [],
   "source": [
    "finalData = pd.concat([data, data2])"
   ]
  },
  {
   "cell_type": "code",
   "execution_count": 43,
   "id": "ef8c881e",
   "metadata": {},
   "outputs": [],
   "source": [
    "df.to_csv('data/forModelTraining.csv', index=None)"
   ]
  }
 ],
 "metadata": {
  "kernelspec": {
   "display_name": "Python 3 (ipykernel)",
   "language": "python",
   "name": "python3"
  },
  "language_info": {
   "codemirror_mode": {
    "name": "ipython",
    "version": 3
   },
   "file_extension": ".py",
   "mimetype": "text/x-python",
   "name": "python",
   "nbconvert_exporter": "python",
   "pygments_lexer": "ipython3",
   "version": "3.10.8"
  },
  "varInspector": {
   "cols": {
    "lenName": 16,
    "lenType": 16,
    "lenVar": 40
   },
   "kernels_config": {
    "python": {
     "delete_cmd_postfix": "",
     "delete_cmd_prefix": "del ",
     "library": "var_list.py",
     "varRefreshCmd": "print(var_dic_list())"
    },
    "r": {
     "delete_cmd_postfix": ") ",
     "delete_cmd_prefix": "rm(",
     "library": "var_list.r",
     "varRefreshCmd": "cat(var_dic_list()) "
    }
   },
   "types_to_exclude": [
    "module",
    "function",
    "builtin_function_or_method",
    "instance",
    "_Feature"
   ],
   "window_display": false
  }
 },
 "nbformat": 4,
 "nbformat_minor": 5
}
